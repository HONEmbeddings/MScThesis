{
 "cells": [
  {
   "cell_type": "markdown",
   "metadata": {},
   "source": [
    "# Init"
   ]
  },
  {
   "cell_type": "code",
   "execution_count": 1,
   "metadata": {},
   "outputs": [],
   "source": [
    "verbose=False"
   ]
  },
  {
   "cell_type": "code",
   "execution_count": 2,
   "metadata": {},
   "outputs": [
    {
     "data": {
      "text/html": [
       "\n",
       "    <script charset=\"utf-8\">\n",
       "    // Load via requireJS if available (jupyter notebook environment)\n",
       "    try {\n",
       "    require.config({\n",
       "    paths: {\n",
       "    d3: \"https://d3js.org/d3.v5.min.js\".replace(\".js\", \"\")\n",
       "    }\n",
       "    });\n",
       "    console.log(\"OKAY: requireJS was detected\");\n",
       "    }\n",
       "    catch(err){\n",
       "    console.log(err);\n",
       "    console.log(\"ERROR: NO requireJS was detected\");\n",
       "    };\n",
       "    require(['d3'], function(d3){\n",
       "    console.log(\"OKAY: d3js was detected\");\n",
       "    });\n",
       "    </script>\n",
       "    "
      ],
      "text/plain": [
       "<IPython.core.display.HTML object>"
      ]
     },
     "metadata": {},
     "output_type": "display_data"
    }
   ],
   "source": [
    "%matplotlib inline\n",
    "#%matplotlib notebook\n",
    "import os\n",
    "import pathpy as pp\n",
    "import numpy as np\n",
    "import pandas as pd\n",
    "import math\n",
    "from collections import defaultdict\n",
    "import matplotlib.pyplot as plt\n",
    "#from tqdm import tqdm\n",
    "from tqdm.notebook import tqdm"
   ]
  },
  {
   "cell_type": "code",
   "execution_count": 3,
   "metadata": {},
   "outputs": [],
   "source": [
    "from HigherOrderPathGenerator import HigherOrderPathGenerator, CrossValidation_HigherOrderPathGenerator, ABCHigherOrderPathGenerator\n",
    "from Embedding import ABCEmbedding, HON_DeepWalk_Embedding, HONEM_Embedding, HON_NetMF_Embedding, HON_GraRep_Embedding, HON_Transition_Hierarchical_Embedding\n",
    "from Visualizations import Visualization, EmbeddingView, Lattice2D_EmbeddingView\n",
    "from Datasets import init_generator"
   ]
  },
  {
   "cell_type": "code",
   "execution_count": 4,
   "metadata": {},
   "outputs": [
    {
     "name": "stdout",
     "output_type": "stream",
     "text": [
      "97223 rules read\n",
      "[]\n",
      "[]\n"
     ]
    }
   ],
   "source": [
    "gen_HON = init_generator('primaryschool_1.csv')\n",
    "#gen_HON = init_generator('workplace_30.csv')\n",
    "#gen_HON = init_generator('hospital_1.csv')"
   ]
  },
  {
   "cell_type": "code",
   "execution_count": 5,
   "metadata": {},
   "outputs": [],
   "source": [
    "gen_FON = gen_HON.to_FON(gen_HON._id + ' (FON)')"
   ]
  },
  {
   "cell_type": "markdown",
   "metadata": {},
   "source": [
    "# Embeddings"
   ]
  },
  {
   "cell_type": "code",
   "execution_count": 6,
   "metadata": {},
   "outputs": [],
   "source": [
    "class embedding_builder(object):\n",
    "    \"Instantiates an embedding and trains it.\"\n",
    "    def __init__(self, name:str, init_para=None, **train_para):\n",
    "        self._name = name\n",
    "        self._init_para = dict() if init_para is None else init_para\n",
    "        self._train_para = train_para\n",
    "    \n",
    "    def build(self, gen: ABCHigherOrderPathGenerator, dimension:int = 128):\n",
    "        if self._name == 'NetMF':\n",
    "            emb = HON_NetMF_Embedding(gen, dimension, **self._init_para)\n",
    "            emb.train(**self._train_para)\n",
    "        elif self._name == 'GraRep':\n",
    "            emb = HON_GraRep_Embedding(gen, dimension, **self._init_para)\n",
    "            emb.train(**self._train_para)\n",
    "        elif self._name == 'Experiment':\n",
    "            #emb = HON_Transition_Hierarchical_Embedding(gen, dimension, **self._init_para)\n",
    "            emb = HON_CV_Transition_Hierarchical_Embedding(gen, dimension, **self._init_para)\n",
    "            emb.train(**self._train_para)\n",
    "        elif self._name == 'DeepWalk':\n",
    "            emb = HON_DeepWalk_Embedding(gen, dimension)\n",
    "        elif self._name == 'HONEM':\n",
    "            emb = HONEM_Embedding(gen, dimension)\n",
    "            emb.train()\n",
    "        else:\n",
    "            assert False, 'Invalid name %s' % name\n",
    "        return emb\n",
    "    \n",
    "    @staticmethod\n",
    "    def get_true_probs(gen: ABCHigherOrderPathGenerator, excluded_edges):\n",
    "        res = defaultdict(dict) # use nested dictionaries, because decode is expensive\n",
    "        for source in gen.source_paths_len1:\n",
    "            for _, next_node, prob in gen.transition_probs(source):\n",
    "                if (source[-1],next_node) in excluded_edges:\n",
    "                    res[source][next_node]=prob\n",
    "        return res\n",
    "    \n",
    "    def evaluate_pairs(self, true_probs, gen_build: ABCHigherOrderPathGenerator, dimension: int = 128, **kwargs):\n",
    "        emb = self.build(gen_build, dimension)\n",
    "        node2str = emb.key2str if emb._symmetric else emb.node2str\n",
    "        source2str = emb.key2str if emb._symmetric else emb.path2str\n",
    "        res = []\n",
    "        for source, probs in true_probs.items():\n",
    "            source_str = source2str(source)\n",
    "            predicted_probs = emb.decode_path(source, **kwargs)\n",
    "            for next_node, prob in probs.items():\n",
    "                next_node_str = node2str(next_node)\n",
    "                res.append(dict(source=source_str, target=next_node_str, true_prob=prob, pred_prob=predicted_probs[next_node_str]))\n",
    "        return res\n",
    "    \n",
    "    def evaluate(self, true_probs, gen_build: ABCHigherOrderPathGenerator, dimension:int = 128, **kwargs):\n",
    "        emb = self.build(gen_build, dimension)\n",
    "        node2str = emb.key2str if emb._symmetric else emb.node2str\n",
    "        SSE = 0\n",
    "        SSElog = 0\n",
    "        min_prob=1e-10\n",
    "        for source, probs in true_probs.items():\n",
    "            predicted_probs = emb.decode_path(source, **kwargs)\n",
    "            for next_node, prob in probs.items():\n",
    "                SSE += (prob - predicted_probs[node2str(next_node)])**2\n",
    "                SSElog += (math.log2(max(prob,min_prob)) - math.log2(max(predicted_probs[node2str(next_node)],min_prob)))**2\n",
    "        return dict(SSE=SSE,SSElog=SSElog)"
   ]
  },
  {
   "cell_type": "code",
   "execution_count": 7,
   "metadata": {},
   "outputs": [],
   "source": [
    "class HON_CV_Transition_Hierarchical_Embedding(HON_Transition_Hierarchical_Embedding):\n",
    "    \"\"\"In a cross-validation setting, some edges should be excluded from training the embedding.\n",
    "    While this is impossible for methods based on (unweighted) matrix factorization using SVD,\n",
    "    this is simple for methods based on weighted matrix factorization using SGD.\n",
    "    \n",
    "    The trick is to skip the update step if it happens to coincide with one of the excluded edges.\n",
    "    \"\"\"\n",
    "    def __init__(self, gen, dimension: int=128, node_hierarchy='calc', seed=None, neg_stationary:bool=True):\n",
    "        super().__init__(gen, dimension, node_hierarchy, seed, neg_stationary)\n",
    "        if type(gen) == CrossValidation_HigherOrderPathGenerator:\n",
    "            self._excluded_edges = { (iu,iv) for u,iu in self._source_paths.items() for v,iv in self._target_nodes.items()\n",
    "                    if (u[-1],v) in gen._excluded_edges }\n",
    "        else:\n",
    "            self._excluded_edges = set() # warn?\n",
    "    \n",
    "    def _update(self, iu, iv, label, learning_rate):\n",
    "        if (iu,iv) in self._excluded_edges:\n",
    "            return # skip training (both positive and negative samples) for the excluded edges\n",
    "        super()._update(iu, iv, label, learning_rate)"
   ]
  },
  {
   "cell_type": "code",
   "execution_count": 8,
   "metadata": {},
   "outputs": [],
   "source": [
    "dimensions = [16, 32, 64, 128]"
   ]
  },
  {
   "cell_type": "code",
   "execution_count": 9,
   "metadata": {},
   "outputs": [],
   "source": [
    "decode_args = dict(use_neighborhood=True, no_self_loops=True, normalize=True, step=1) # decode ignores additional parameters"
   ]
  },
  {
   "cell_type": "code",
   "execution_count": 10,
   "metadata": {},
   "outputs": [],
   "source": [
    "netmf_pairs = dict(pairwise=True)\n",
    "grarep_para = dict(num_steps=2, pairwise=True)\n",
    "embedding_builders = {\n",
    "    'NetMF(W1,N1)': embedding_builder('NetMF', init_para=netmf_pairs, window_size=1, negative=1),\n",
    "    'NetMF(W1,N5)': embedding_builder('NetMF', init_para=netmf_pairs, window_size=1, negative=5),\n",
    "    'NetMF(W2,N1)': embedding_builder('NetMF', init_para=netmf_pairs, window_size=2, negative=1),\n",
    "    'NetMF(W2,N5)': embedding_builder('NetMF', init_para=netmf_pairs, window_size=2, negative=5),\n",
    "    'NetMF(W3,N1)': embedding_builder('NetMF', init_para=netmf_pairs, window_size=3, negative=1),\n",
    "    'NetMF(W3,N5)': embedding_builder('NetMF', init_para=netmf_pairs, window_size=3, negative=5),\n",
    "    'NetMF(W5,N1)': embedding_builder('NetMF', init_para=netmf_pairs, window_size=5, negative=1),\n",
    "    'NetMF(W5,N5)': embedding_builder('NetMF', init_para=netmf_pairs, window_size=5, negative=5),\n",
    "#    'NetMF(W10,N1)': embedding_builder('NetMF', init_para=netmf_pairs, window_size=10, negative=1),\n",
    "#    'NetMF(W10,N5)': embedding_builder('NetMF', init_para=netmf_pairs, window_size=10, negative=5),\n",
    "    \n",
    "#    'GraRep(2,N5)': embedding_builder('GraRep', init_para=grarep_para, negative=5), # GraRep behaves like NetMF(W1)\n",
    "#    'HONEM':  embedding_builder('HONEM'),\n",
    "}"
   ]
  },
  {
   "cell_type": "code",
   "execution_count": 11,
   "metadata": {},
   "outputs": [],
   "source": [
    "FON_edges = list((start[-1],next_node) for start in gen_HON.source_paths_len1 for _, next_node, _ in gen_HON.transition_probs(start))\n",
    "#FON_edges"
   ]
  },
  {
   "cell_type": "markdown",
   "metadata": {},
   "source": [
    "## debug builder.evaluate_pairs\n",
    "Before running extensive simulations, examine the best case - no cross validation:\n",
    "* true_probs contains all transition probabilities for the excluded_edges, but we want all of them (set excluded_edges=FON_edges)\n",
    "* the embedding uses the original transition probabilities (gen_HON)\n",
    "* The embedding approximates the 1-step transitions [NetMF(window_size=1) or Experiment (its SGD equivalent)] instead of using random walks\n",
    "* After decoding the probabilities, keep only those connected by a FON link and re-normalize\n",
    "\n",
    "**The outcome is worse than I had hoped for, rendering the whole analysis useless.**"
   ]
  },
  {
   "cell_type": "code",
   "execution_count": 12,
   "metadata": {},
   "outputs": [],
   "source": [
    "def debug_evaluate_pairs(builder, dimension=128, title=None, only_FON_edges=True, FON_edges=FON_edges, decode_args=decode_args, limit=(0.00001,1)):\n",
    "    true_probs = builder.get_true_probs(gen_HON, excluded_edges=FON_edges) # true_probs for all edges\n",
    "    gen_XE = gen_HON # no cross validation\n",
    "    res = builder.evaluate_pairs(true_probs, gen_XE, dimension, **decode_args)\n",
    "    df = pd.DataFrame(res).set_index(['source','target'])\n",
    "    \n",
    "    df.plot.scatter('true_prob', 'pred_prob', alpha=0.01, logx=True, logy=True, xlim=limit, ylim=limit)\n",
    "    if title is not None: plt.suptitle(title)\n",
    "    ax = plt.gca()\n",
    "    ax.plot(limit,limit, '-')"
   ]
  },
  {
   "cell_type": "code",
   "execution_count": 13,
   "metadata": {},
   "outputs": [],
   "source": [
    "if verbose:\n",
    "    %time debug_evaluate_pairs(embedding_builders['NetMF(W1,N1)'], 128, 'HON NetMF(W=1,N=1,R=128)') # 3.5 sec\n",
    "    plt.savefig('tmp/prob_netmf-w1n1r128.png') # figure B.1 (left)\n",
    "    %time debug_evaluate_pairs(embedding_builders['NetMF(W3,N5)'], 16, 'HON NetMF(W=3,N=5,R=16)') # 11.5 sec\n",
    "    plt.savefig('tmp/prob_netmf-w3n5r16.png') # figure B.1 (right)\n",
    "    #%time debug_evaluate_pairs(embedding_builders['NetMF(W10,N5)'], 16, 'HON NetMF(W=10,N=5,R=16)') # 5 min\n",
    "    #plt.savefig('tmp/prob_netmf-w310n5r16.png')\n",
    "\n",
    "    #%time debug_evaluate_pairs(embedding_builders['NetMF(W10,N5)'], 256, 'NetMF(W10,N5)')\n",
    "    #£%time debug_evaluate_pairs(embedding_builder('Experiment', dict(seed=1, neg_stationary=True), steps=1000, negative=1), 256, 'Experiment')"
   ]
  },
  {
   "cell_type": "code",
   "execution_count": 14,
   "metadata": {
    "scrolled": false
   },
   "outputs": [],
   "source": [
    "#for name,builder in embedding_builders.items():\n",
    "#    %time debug_evaluate_pairs(builder, 16, name)"
   ]
  },
  {
   "cell_type": "markdown",
   "metadata": {},
   "source": [
    "## Crossvalidation of probability prediction for single embedding\n",
    "Compares true and predicted probabilities using cross validation.\n",
    "\n",
    "Cross validation means, that for a set of edges, a new instance `gen_XE` of CrossValidation_HigherOrderPathGenerator is generated, where all information about the transition probabilities along these edges is hidden. An embedding is trained using `gen_XE` and the (predicted) transition probabilities are decoded from this embedding."
   ]
  },
  {
   "cell_type": "code",
   "execution_count": 15,
   "metadata": {},
   "outputs": [],
   "source": [
    "from sklearn.model_selection import KFold\n",
    "def evaluate_pairs(gen, builder, builder_id, dimension=128, n_splits=20, use_FON=False, plot=False, decode_args=decode_args, limit=(0.00001,1)):\n",
    "    gen_build = gen\n",
    "    if use_FON:\n",
    "        gen_build = HigherOrderPathGenerator(node_sort_key=gen._node_sort_key, id=gen._id + ' (FON)')\n",
    "        for key in gen.rule_keys:\n",
    "            if len(key)>1:\n",
    "                continue\n",
    "            for start, next_node,prob in gen.transition_probs(key):\n",
    "                gen_build.add_rule(start, next_node, prob)\n",
    "    res = []\n",
    "    kf = KFold(n_splits=n_splits, shuffle=True, random_state=0)\n",
    "    progress = tqdm(range(kf.n_splits))\n",
    "    progress_iter = iter(progress)\n",
    "    for i_split, (_, test_index) in enumerate(kf.split(FON_edges)):\n",
    "        next(progress_iter)\n",
    "        #progress.set_postfix(dict(split=i_split))\n",
    "        excluded_edges = list(e for i,e in enumerate(FON_edges) if i in test_index) # = FON_edges[test_index]\n",
    "        true_probs = embedding_builder.get_true_probs(gen, excluded_edges)\n",
    "        gen_XE = CrossValidation_HigherOrderPathGenerator(gen_build, excluded_edges, '%s exclude_%d' % (gen_build._id,i_split))\n",
    "        res.extend(builder.evaluate_pairs(true_probs, gen_XE, dimension, **decode_args))\n",
    "    try:\n",
    "        next(progress_iter)\n",
    "    except StopIteration:\n",
    "        pass\n",
    "    res = pd.DataFrame(res).set_index(['source','target'])\n",
    "    if plot:\n",
    "        res.plot.scatter('true_prob', 'pred_prob', alpha=0.01, logx=True, logy=True, xlim=limit, ylim=limit)\n",
    "        ax = plt.gca()\n",
    "        ax.plot(limit,limit, '-')\n",
    "        plt.gcf().suptitle(('FON' if use_FON else 'HON') +' '+ builder_id + f' CV(k={n_splits})')\n",
    "    return res"
   ]
  },
  {
   "cell_type": "code",
   "execution_count": 16,
   "metadata": {},
   "outputs": [],
   "source": [
    "if verbose:\n",
    "    df = evaluate_pairs(gen_HON, embedding_builders['NetMF(W1,N1)'], 'NetMF(W=1,N=1,R=128)', 128, n_splits=100, use_FON=False, plot=True)\n",
    "    plt.savefig('tmp/cv-prob_netmf-w1n1r128.png')  # figure B.2 (left)"
   ]
  },
  {
   "cell_type": "code",
   "execution_count": 17,
   "metadata": {},
   "outputs": [],
   "source": [
    "if verbose:\n",
    "    df2 = evaluate_pairs(gen_HON, embedding_builders['NetMF(W2,N1)'], 'NetMF(W=2,N=1,R=16)', 16, n_splits=100, use_FON=False, plot=True)\n",
    "    plt.savefig('tmp/cv-prob_netmf-w2n1r16.png')"
   ]
  },
  {
   "cell_type": "code",
   "execution_count": 18,
   "metadata": {},
   "outputs": [],
   "source": [
    "if verbose:\n",
    "    df2 = evaluate_pairs(gen_HON, embedding_builders['NetMF(W3,N5)'], 'NetMF(W=3,N=5,R=16)', 16, n_splits=100, use_FON=False, plot=True)\n",
    "    plt.savefig('tmp/cv-prob_netmf-w3n5r16.png')  # figure B.2 (right)"
   ]
  },
  {
   "cell_type": "markdown",
   "metadata": {},
   "source": [
    "# Compare embeddings"
   ]
  },
  {
   "cell_type": "code",
   "execution_count": 19,
   "metadata": {
    "scrolled": false
   },
   "outputs": [
    {
     "data": {
      "application/vnd.jupyter.widget-view+json": {
       "model_id": "88ab663f2ec040f588f9471e36fbbece",
       "version_major": 2,
       "version_minor": 0
      },
      "text/plain": [
       "HBox(children=(FloatProgress(value=0.0, max=1280.0), HTML(value='')))"
      ]
     },
     "metadata": {},
     "output_type": "display_data"
    },
    {
     "name": "stdout",
     "output_type": "stream",
     "text": [
      "\n"
     ]
    },
    {
     "data": {
      "text/html": [
       "<div>\n",
       "<style scoped>\n",
       "    .dataframe tbody tr th:only-of-type {\n",
       "        vertical-align: middle;\n",
       "    }\n",
       "\n",
       "    .dataframe tbody tr th {\n",
       "        vertical-align: top;\n",
       "    }\n",
       "\n",
       "    .dataframe thead th {\n",
       "        text-align: right;\n",
       "    }\n",
       "</style>\n",
       "<table border=\"1\" class=\"dataframe\">\n",
       "  <thead>\n",
       "    <tr style=\"text-align: right;\">\n",
       "      <th></th>\n",
       "      <th>model</th>\n",
       "      <th>dimension</th>\n",
       "      <th>embedding</th>\n",
       "      <th>split</th>\n",
       "      <th>SSE</th>\n",
       "      <th>SSElog</th>\n",
       "    </tr>\n",
       "  </thead>\n",
       "  <tbody>\n",
       "    <tr>\n",
       "      <th>0</th>\n",
       "      <td>HON</td>\n",
       "      <td>16</td>\n",
       "      <td>NetMF(W1,N1)</td>\n",
       "      <td>0</td>\n",
       "      <td>3.811116</td>\n",
       "      <td>27535.852668</td>\n",
       "    </tr>\n",
       "    <tr>\n",
       "      <th>1</th>\n",
       "      <td>HON</td>\n",
       "      <td>32</td>\n",
       "      <td>NetMF(W1,N1)</td>\n",
       "      <td>0</td>\n",
       "      <td>5.826772</td>\n",
       "      <td>29355.270917</td>\n",
       "    </tr>\n",
       "    <tr>\n",
       "      <th>2</th>\n",
       "      <td>HON</td>\n",
       "      <td>64</td>\n",
       "      <td>NetMF(W1,N1)</td>\n",
       "      <td>0</td>\n",
       "      <td>7.298458</td>\n",
       "      <td>31640.753643</td>\n",
       "    </tr>\n",
       "    <tr>\n",
       "      <th>3</th>\n",
       "      <td>HON</td>\n",
       "      <td>128</td>\n",
       "      <td>NetMF(W1,N1)</td>\n",
       "      <td>0</td>\n",
       "      <td>8.006961</td>\n",
       "      <td>33005.995388</td>\n",
       "    </tr>\n",
       "    <tr>\n",
       "      <th>4</th>\n",
       "      <td>HON</td>\n",
       "      <td>16</td>\n",
       "      <td>NetMF(W1,N5)</td>\n",
       "      <td>0</td>\n",
       "      <td>4.222847</td>\n",
       "      <td>28841.761619</td>\n",
       "    </tr>\n",
       "  </tbody>\n",
       "</table>\n",
       "</div>"
      ],
      "text/plain": [
       "  model  dimension     embedding  split       SSE        SSElog\n",
       "0   HON         16  NetMF(W1,N1)      0  3.811116  27535.852668\n",
       "1   HON         32  NetMF(W1,N1)      0  5.826772  29355.270917\n",
       "2   HON         64  NetMF(W1,N1)      0  7.298458  31640.753643\n",
       "3   HON        128  NetMF(W1,N1)      0  8.006961  33005.995388\n",
       "4   HON         16  NetMF(W1,N5)      0  4.222847  28841.761619"
      ]
     },
     "execution_count": 19,
     "metadata": {},
     "output_type": "execute_result"
    }
   ],
   "source": [
    "from sklearn.model_selection import KFold\n",
    "res = []\n",
    "kf = KFold(n_splits=20, shuffle=True, random_state=0)\n",
    "progress = tqdm(range(kf.n_splits * len(embedding_builders) * len(dimensions) * 2))\n",
    "progress_iter = iter(progress)\n",
    "for i_split, (_, test_index) in enumerate(kf.split(FON_edges)):\n",
    "    ##excluded_edges = FON_edges[test_index]\n",
    "    excluded_edges = list(e for i,e in enumerate(FON_edges) if i in test_index)\n",
    "    true_probs = embedding_builder.get_true_probs(gen_HON, excluded_edges)\n",
    "    for gen_name,gen in [('HON', gen_HON), ('FON', gen_FON)]:\n",
    "        gen_XE = CrossValidation_HigherOrderPathGenerator(gen, excluded_edges, '%s exclude_%d' % (gen_name,i_split))\n",
    "        for builder_name, builder in embedding_builders.items():\n",
    "            for dimension in dimensions:\n",
    "                next(progress_iter)\n",
    "                progress.set_postfix_str(f'{i_split}: {gen_name} {builder_name} {dimension}')\n",
    "                #progress.set_postfix(dict(split=i_split, gen=gen_name, model=builder_name, dim=dimension))\n",
    "                out = dict(model=gen_name, dimension=dimension, embedding=builder_name, split=i_split)\n",
    "                out.update(builder.evaluate(true_probs, gen_XE, dimension, **decode_args))\n",
    "                res.append(out)\n",
    "try:\n",
    "    next(progress_iter)\n",
    "except StopIteration:\n",
    "    pass\n",
    "df = pd.DataFrame(res)\n",
    "df.head()"
   ]
  },
  {
   "cell_type": "code",
   "execution_count": 20,
   "metadata": {},
   "outputs": [
    {
     "name": "stderr",
     "output_type": "stream",
     "text": [
      "C:\\Users\\mstud\\Anaconda3\\envs\\pathpy\\lib\\site-packages\\ipykernel_launcher.py:1: FutureWarning: Indexing with multiple keys (implicitly converted to a tuple of keys) will be deprecated, use a list instead.\n",
      "  \"\"\"Entry point for launching an IPython kernel.\n"
     ]
    }
   ],
   "source": [
    "df_sum = df.groupby(['model','dimension','embedding'])['SSE','SSElog'].sum()\n",
    "df_sum.to_csv('tmp/cv-prob.csv', sep='\\t', encoding='utf-16')"
   ]
  },
  {
   "cell_type": "code",
   "execution_count": 21,
   "metadata": {},
   "outputs": [
    {
     "data": {
      "text/plain": [
       "model  dimension  embedding   \n",
       "FON    16         NetMF(W5,N5)     47.792190\n",
       "                  NetMF(W3,N5)     49.280430\n",
       "                  NetMF(W5,N1)     49.350664\n",
       "HON    16         NetMF(W5,N5)     49.384262\n",
       "                  NetMF(W5,N1)     50.371449\n",
       "                                     ...    \n",
       "       128        NetMF(W1,N5)     93.412453\n",
       "       64         NetMF(W1,N1)    106.354252\n",
       "FON    64         NetMF(W1,N1)    106.354252\n",
       "HON    128        NetMF(W1,N1)    132.641770\n",
       "FON    128        NetMF(W1,N1)    132.641770\n",
       "Name: SSE, Length: 64, dtype: float64"
      ]
     },
     "execution_count": 21,
     "metadata": {},
     "output_type": "execute_result"
    }
   ],
   "source": [
    "df_sum['SSE'].sort_values()"
   ]
  },
  {
   "cell_type": "code",
   "execution_count": 22,
   "metadata": {},
   "outputs": [
    {
     "data": {
      "text/plain": [
       "model  dimension  embedding   \n",
       "HON    16         NetMF(W5,N1)    524060.605983\n",
       "       32         NetMF(W5,N1)    526176.746898\n",
       "       16         NetMF(W3,N1)    531328.282973\n",
       "       32         NetMF(W3,N1)    538490.524515\n",
       "       16         NetMF(W2,N1)    539406.553885\n",
       "                                      ...      \n",
       "       128        NetMF(W1,N5)    636259.354630\n",
       "FON    64         NetMF(W1,N1)    656262.486685\n",
       "HON    64         NetMF(W1,N1)    656262.486685\n",
       "       128        NetMF(W1,N1)    679515.663336\n",
       "FON    128        NetMF(W1,N1)    679515.663336\n",
       "Name: SSElog, Length: 64, dtype: float64"
      ]
     },
     "execution_count": 22,
     "metadata": {},
     "output_type": "execute_result"
    }
   ],
   "source": [
    "df_sum['SSElog'].sort_values()"
   ]
  },
  {
   "cell_type": "code",
   "execution_count": null,
   "metadata": {},
   "outputs": [],
   "source": []
  }
 ],
 "metadata": {
  "kernelspec": {
   "display_name": "Python 3",
   "language": "python",
   "name": "python3"
  },
  "language_info": {
   "codemirror_mode": {
    "name": "ipython",
    "version": 3
   },
   "file_extension": ".py",
   "mimetype": "text/x-python",
   "name": "python",
   "nbconvert_exporter": "python",
   "pygments_lexer": "ipython3",
   "version": "3.7.7"
  }
 },
 "nbformat": 4,
 "nbformat_minor": 4
}
