{
 "cells": [
  {
   "cell_type": "code",
   "execution_count": 1,
   "metadata": {},
   "outputs": [],
   "source": [
    "comment = 'calculated in Plots_ExpClass.ipynb'"
   ]
  },
  {
   "cell_type": "code",
   "execution_count": 2,
   "metadata": {},
   "outputs": [],
   "source": [
    "%matplotlib inline\n",
    "#%matplotlib notebook\n",
    "import os\n",
    "import pandas as pd\n",
    "from collections import defaultdict\n",
    "import matplotlib.pyplot as plt\n",
    "import seaborn as sns"
   ]
  },
  {
   "cell_type": "code",
   "execution_count": 3,
   "metadata": {},
   "outputs": [
    {
     "data": {
      "text/html": [
       "\n",
       "    <script charset=\"utf-8\">\n",
       "    // Load via requireJS if available (jupyter notebook environment)\n",
       "    try {\n",
       "    require.config({\n",
       "    paths: {\n",
       "    d3: \"https://d3js.org/d3.v5.min.js\".replace(\".js\", \"\")\n",
       "    }\n",
       "    });\n",
       "    console.log(\"OKAY: requireJS was detected\");\n",
       "    }\n",
       "    catch(err){\n",
       "    console.log(err);\n",
       "    console.log(\"ERROR: NO requireJS was detected\");\n",
       "    };\n",
       "    require(['d3'], function(d3){\n",
       "    console.log(\"OKAY: d3js was detected\");\n",
       "    });\n",
       "    </script>\n",
       "    "
      ],
      "text/plain": [
       "<IPython.core.display.HTML object>"
      ]
     },
     "metadata": {},
     "output_type": "display_data"
    }
   ],
   "source": [
    "from Datasets import init_generator # returns HigherOrderPathGenerator"
   ]
  },
  {
   "cell_type": "code",
   "execution_count": 4,
   "metadata": {},
   "outputs": [
    {
     "name": "stdout",
     "output_type": "stream",
     "text": [
      "97223 rules read\n",
      "[]\n",
      "[]\n"
     ]
    }
   ],
   "source": [
    "gen_school = init_generator('primaryschool_1.csv')"
   ]
  },
  {
   "cell_type": "code",
   "execution_count": 5,
   "metadata": {},
   "outputs": [],
   "source": [
    "if not os.path.exists('tmp'):\n",
    "    os.makedirs('tmp')"
   ]
  },
  {
   "cell_type": "markdown",
   "metadata": {},
   "source": [
    "# Check child-teacher-child interactions\n",
    "Figure 4.11"
   ]
  },
  {
   "cell_type": "code",
   "execution_count": 6,
   "metadata": {},
   "outputs": [],
   "source": [
    "def is_teacher(node):\n",
    "    return gen_school._target_node_metadata['Role'][node] == 'Teacher'\n",
    "def is_child(node):\n",
    "    return gen_school._target_node_metadata['Role'][node] == 'Child'\n",
    "def get_class(node):\n",
    "    return gen_school._target_node_metadata['Class'][node]"
   ]
  },
  {
   "cell_type": "code",
   "execution_count": 7,
   "metadata": {},
   "outputs": [],
   "source": [
    "def get_class_class_probs_via_teacher(HON=True, title=None, filename=None, transition_probs=False, figsize=(7,5), dpi=200, bbox_inches='tight', **kwargs):\n",
    "    \"\"\"\n",
    "    returns a dictionary { (c1,c2) : prob}\n",
    "    where (c1,c2) is a pair of classes\n",
    "    and prob = P(class(n1) = c1, class(n3)=c2 | is_child(n1), is_teacher(n2), is_child(n3))\n",
    "    where (n1,n2,n3) is a random path of length 3 starting with n1 ~ stationary\n",
    "    \"\"\"\n",
    "    gen = gen_school if HON else gen_school.to_FON()\n",
    "    total_prob = 0\n",
    "    cp = defaultdict(float) # prob of class\n",
    "    ccp = defaultdict(float) # prob of pair of classes\n",
    "    for (n1,n2,n3),prob in gen.path_probs(start=(), num_steps=3):\n",
    "        if is_child(n1) and is_teacher(n2) and is_child(n3):\n",
    "            c1 = get_class(n1)\n",
    "            c3 = get_class(n3)\n",
    "            total_prob += prob\n",
    "            cp[c1] += prob\n",
    "            ccp[(c1,c3)] += prob\n",
    "    print('total probability', total_prob)\n",
    "    if transition_probs:\n",
    "        ccp = { cc:prob/cp[cc[0]] for cc,prob in ccp.items()} # transition probability c1->c2\n",
    "    else:\n",
    "        ccp = { cc:prob/total_prob for cc,prob in ccp.items()} # probability of pairs\n",
    "    res = pd.Series(ccp).unstack()\n",
    "    if filename is not None:\n",
    "        fig = plt.figure(figsize=figsize, dpi=dpi)\n",
    "        if title is not None:\n",
    "            fig.suptitle(title)\n",
    "        classes = sorted(cp.keys())\n",
    "        ax = fig.gca()\n",
    "        sns.heatmap(res, annot=True, fmt='.2f', cmap=plt.cm.Blues, xticklabels=classes, yticklabels=classes, ax=ax)\n",
    "        if transition_probs:\n",
    "            ax.set_xlabel('target')\n",
    "            ax.set_ylabel('source')\n",
    "        else:\n",
    "            ax.set_xlabel('class of $child_2$')\n",
    "            ax.set_ylabel('class of $child_1$')\n",
    "        fig.savefig(filename, bbox_inches=bbox_inches, **kwargs)\n",
    "        with open(filename + '.txt','w') as f:\n",
    "            gen.write_config(f, comment=comment, prefix='', sep='\\t')\n",
    "            f.write('\\n\\nProbability of a child->teacher->child path %f\\n' % total_prob)\n",
    "            if transition_probs:\n",
    "                f.write('\\nTransition probabilities:\\n')\n",
    "            else:\n",
    "                f.write('\\nPair probabilities:\\n')\n",
    "            f.write(res.to_csv(line_terminator='\\n'))\n",
    "    return res"
   ]
  },
  {
   "cell_type": "code",
   "execution_count": null,
   "metadata": {
    "scrolled": false
   },
   "outputs": [],
   "source": [
    "title_HON = 'Cond. probability of Child-Teacher-Child interaction by class (HON)'\n",
    "c2c_HON = get_class_class_probs_via_teacher(True, title_HON, filename='tmp/school_hon_interaction_via_teacher.png')"
   ]
  },
  {
   "cell_type": "code",
   "execution_count": null,
   "metadata": {},
   "outputs": [],
   "source": [
    "title_FON = 'Cond. probability of Child-Teacher-Child interaction by class (FON)'\n",
    "c2c_FON = get_class_class_probs_via_teacher(False, title_FON, filename='tmp/school_fon_interaction_via_teacher.png')"
   ]
  },
  {
   "cell_type": "markdown",
   "metadata": {},
   "source": [
    "Get frequencies by class from stationary distribution"
   ]
  },
  {
   "cell_type": "code",
   "execution_count": 10,
   "metadata": {},
   "outputs": [
    {
     "data": {
      "text/plain": [
       "defaultdict(float,\n",
       "            {'5B': 0.08779785547204058,\n",
       "             '5A': 0.04456183510387105,\n",
       "             '4A': 0.04474650478145715,\n",
       "             'Teachers': 0.004609362345706892,\n",
       "             '3B': 0.15727510236331413,\n",
       "             '4B': 0.05062492826777912,\n",
       "             '2A': 0.11235273025299394,\n",
       "             '1B': 0.2166310296376714,\n",
       "             '2B': 0.12849865639303715,\n",
       "             '1A': 0.04554663582826103,\n",
       "             '3A': 0.10735535955386742})"
      ]
     },
     "execution_count": 10,
     "metadata": {},
     "output_type": "execute_result"
    }
   ],
   "source": [
    "class_probs = defaultdict(float)\n",
    "for _,n,prob in gen_school.transition_probs(start=()): # stationary distribution\n",
    "    class_probs[get_class(n)] += prob\n",
    "class_probs"
   ]
  }
 ],
 "metadata": {
  "kernelspec": {
   "display_name": "Python 3",
   "language": "python",
   "name": "python3"
  },
  "language_info": {
   "codemirror_mode": {
    "name": "ipython",
    "version": 3
   },
   "file_extension": ".py",
   "mimetype": "text/x-python",
   "name": "python",
   "nbconvert_exporter": "python",
   "pygments_lexer": "ipython3",
   "version": "3.7.7"
  }
 },
 "nbformat": 4,
 "nbformat_minor": 4
}
