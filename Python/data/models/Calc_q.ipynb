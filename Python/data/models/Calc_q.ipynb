{
 "cells": [
  {
   "cell_type": "markdown",
   "metadata": {},
   "source": [
    "# Modularity calculation\n",
    "Calculating the modularity of a higher order network may take a long time - especially when looping over all the pairs of nodes. Observe, that for a network $n$ first-order nodes (each with constant degrees $d$), the number of $k$-th order nodes is $n\\cdot d^{order-1}$. Therefore, the adjacency matrix is very sparse and its number of non-zero entries is only $n\\cdot d^{order}$. Hence, it is crucial to avoid iterating over all $n^2\\cdot d^{2order-2}$ pairs of nodes.\n",
    "\n",
    "The modularity $q$ compares the number of actual edges connecting nodes of the same class with its expected counterpart.\n",
    "To count the actual edges, we need only to iterate over the non-zero entries of the adjacency matrix.\n",
    "While the term containing the expected number of edges apparently needs a loop over all pairs of nodes, its special structure (outer product) enables a faster calculation:\n",
    "$\\sum_{i,j} a[i]\\cdot b[j]\\cdot 1_{C[i]=C[j]} = \\sum_c (\\sum_i a[i]\\cdot 1_{C[i]=c}) (\\sum_j b[j]\\cdot 1_{C[j]=c})$\n",
    "\n",
    "Furthermore, the implementation supports generalization of modularity to \n",
    "* directed networks, as in Leicht and Newman (2007), \"Community structure in directed networks\"\n",
    "* weighted networks, as in Newman (2004), \"Analysis of weighted networks\""
   ]
  },
  {
   "cell_type": "code",
   "execution_count": 1,
   "metadata": {},
   "outputs": [
    {
     "name": "stdout",
     "output_type": "stream",
     "text": [
      "# packages in environment at C:\\Users\\mstud\\Anaconda3\\envs\\pathpy2:\n",
      "#\n",
      "# Name                    Version                   Build  Channel\n",
      "pathpy2                   2.2.0                    pypi_0    pypi\n",
      "Note: you may need to restart the kernel to use updated packages.\n",
      "\n"
     ]
    }
   ],
   "source": [
    "# this workbook needs pathpy2 installed\n",
    "%conda list pathpy"
   ]
  },
  {
   "cell_type": "code",
   "execution_count": 2,
   "metadata": {},
   "outputs": [],
   "source": [
    "import pathpy as pp\n",
    "import numpy as np\n",
    "from collections import defaultdict"
   ]
  },
  {
   "cell_type": "code",
   "execution_count": 3,
   "metadata": {},
   "outputs": [],
   "source": [
    "def calc_q(net, C, weighted=False, **kwargs):\n",
    "    nodes = list(net.nodes.keys())\n",
    "    mat = net.adjacency_matrix(weighted=weighted, **kwargs) # scipy.sparse.csc.csc_matrix\n",
    "    mat_sum = 0\n",
    "    mat_sum_by_row_C = defaultdict(float)\n",
    "    mat_sum_by_col_C = defaultdict(float)\n",
    "    q = 0\n",
    "    for c in range(mat.shape[1]):\n",
    "        c_C = C[nodes[c]] # class of current column's node\n",
    "        for ind in range(mat.indptr[c], mat.indptr[c+1]):\n",
    "            r = mat.indices[ind]\n",
    "            v = mat.data[ind]\n",
    "            # assert mat[r,c]==v\n",
    "            r_C = C[nodes[r]] # class of current rows's node\n",
    "            mat_sum += v\n",
    "            mat_sum_by_row_C[r_C] += v\n",
    "            mat_sum_by_col_C[c_C] += v\n",
    "            if c_C == r_C:\n",
    "                q += v\n",
    "    q_exp = sum( v*mat_sum_by_col_C[c] for c,v in mat_sum_by_row_C.items() ) / (mat_sum**2)\n",
    "    q = q/mat_sum - q_exp\n",
    "    q_max = 1 - q_exp\n",
    "    return (q, q_max)"
   ]
  },
  {
   "cell_type": "markdown",
   "metadata": {},
   "source": [
    "calc_q() still uses for loops. Consider converting with .tocoo(), which represents the matrix with three arrays (row, col, data), and use numpy array operations."
   ]
  },
  {
   "cell_type": "markdown",
   "metadata": {},
   "source": [
    "## Some testdata\n",
    "to compare with existing implementation"
   ]
  },
  {
   "cell_type": "code",
   "execution_count": 4,
   "metadata": {},
   "outputs": [],
   "source": [
    "n = 100\n",
    "net = pp.algorithms.random_graphs.erdoes_renyi_gnp(n, 0.2, self_loops=False, directed=False)\n",
    "for e in net.edges:\n",
    "    net.edges[e]['weight'] = np.random.exponential()\n",
    "net_D = pp.algorithms.random_graphs.erdoes_renyi_gnp(n, 0.2, self_loops=False, directed=True)\n",
    "for e in net_D.edges:\n",
    "    net_D.edges[e]['weight'] = np.random.exponential()"
   ]
  },
  {
   "cell_type": "code",
   "execution_count": 5,
   "metadata": {},
   "outputs": [],
   "source": [
    "classes = { str(i): 'group %d' % (i%5) for i in range(n) }"
   ]
  },
  {
   "cell_type": "code",
   "execution_count": 6,
   "metadata": {},
   "outputs": [
    {
     "name": "stdout",
     "output_type": "stream",
     "text": [
      "-0.016743908659001307 0.7998893578740652\n"
     ]
    }
   ],
   "source": [
    "q = pp.algorithms.modularity.q(net, C=classes)\n",
    "q_max = pp.algorithms.modularity.q_max(net, C=classes)\n",
    "if q_max < 0:\n",
    "    q_max+= 1\n",
    "print(q,q_max)"
   ]
  },
  {
   "cell_type": "code",
   "execution_count": 7,
   "metadata": {},
   "outputs": [
    {
     "data": {
      "text/plain": [
       "(-0.016743908659001383, 0.7998893578740648)"
      ]
     },
     "execution_count": 7,
     "metadata": {},
     "output_type": "execute_result"
    }
   ],
   "source": [
    "calc_q(net, classes, transposed=True) # weighted=False"
   ]
  },
  {
   "cell_type": "markdown",
   "metadata": {},
   "source": [
    "Calculation works for all variants of adjacency matrices (weighted and/or directed):"
   ]
  },
  {
   "cell_type": "code",
   "execution_count": 8,
   "metadata": {},
   "outputs": [
    {
     "data": {
      "text/plain": [
       "(-0.01852957868856711, 0.798714644094694)"
      ]
     },
     "execution_count": 8,
     "metadata": {},
     "output_type": "execute_result"
    }
   ],
   "source": [
    "calc_q(net, classes, weighted=True, transposed=True)"
   ]
  },
  {
   "cell_type": "code",
   "execution_count": 9,
   "metadata": {},
   "outputs": [
    {
     "data": {
      "text/plain": [
       "(0.010614981011942137, 0.8010128521279705)"
      ]
     },
     "execution_count": 9,
     "metadata": {},
     "output_type": "execute_result"
    }
   ],
   "source": [
    "calc_q(net_D, classes, weighted=True, transposed=True)"
   ]
  },
  {
   "cell_type": "code",
   "execution_count": 10,
   "metadata": {},
   "outputs": [
    {
     "data": {
      "text/plain": [
       "(0.010614981011942137, 0.8010128521279705)"
      ]
     },
     "execution_count": 10,
     "metadata": {},
     "output_type": "execute_result"
    }
   ],
   "source": [
    "# calculation is invariant under transposition of the matrix\n",
    "calc_q(net_D, classes, weighted=True, transposed=False)"
   ]
  },
  {
   "cell_type": "code",
   "execution_count": 11,
   "metadata": {},
   "outputs": [],
   "source": [
    "# works also for HigherOrderNetwork.adjacency_matrix(include_subpaths, weighted, transposed)\n",
    "# calc_q(hon, classes, weighted=True, include_subpaths=True)"
   ]
  },
  {
   "cell_type": "code",
   "execution_count": null,
   "metadata": {},
   "outputs": [],
   "source": []
  }
 ],
 "metadata": {
  "kernelspec": {
   "display_name": "Python 3",
   "language": "python",
   "name": "python3"
  },
  "language_info": {
   "codemirror_mode": {
    "name": "ipython",
    "version": 3
   },
   "file_extension": ".py",
   "mimetype": "text/x-python",
   "name": "python",
   "nbconvert_exporter": "python",
   "pygments_lexer": "ipython3",
   "version": "3.7.7"
  }
 },
 "nbformat": 4,
 "nbformat_minor": 4
}
