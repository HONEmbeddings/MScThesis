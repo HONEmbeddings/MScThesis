{
 "cells": [
  {
   "cell_type": "markdown",
   "metadata": {},
   "source": [
    "# Testing OptimizedGenerator\n",
    "The OptimizedGenerator uses [numba](https://numba.pydata.org/) to accelerate the simulation of random walks and the calculation of random walk visitation probabilities. The HigherOrderPathGenerator includes an OptimizedGenerator, and several HON embeddings' train methods include a parameter `use_numba`, which by default enables the acceleration.\n",
    "\n",
    "This notebook verifies the OptimizedGenerator.\n",
    "* OptimizedGenerator is indeed faster\n",
    "* Exactly the same embedding for HON_DeepWalk_Embedding and HON_GraRep_Embedding\n",
    "* Small numerical differences for HON_NetMF_Embedding's PMI and embeddig"
   ]
  },
  {
   "cell_type": "code",
   "execution_count": 1,
   "metadata": {},
   "outputs": [],
   "source": [
    "from HigherOrderPathGenerator import *\n",
    "from SyntheticNetworks import create_lattice_2nd_order_dynamic\n",
    "from Embedding import HON_DeepWalk_Embedding, HON_NetMF_Embedding, HON_GraRep_Embedding\n",
    "from OptimizedGenerator import OptimizedGenerator, create_OptimizedGenerator, debug_OptimizedGenerator\n",
    "import collections\n",
    "import matplotlib.pyplot as plt\n",
    "import seaborn as sns"
   ]
  },
  {
   "cell_type": "code",
   "execution_count": 2,
   "metadata": {},
   "outputs": [],
   "source": [
    "size = 10\n",
    "gen = create_lattice_2nd_order_dynamic(size,0.5)"
   ]
  },
  {
   "cell_type": "markdown",
   "metadata": {},
   "source": [
    "* cannot pass `ABCHigherOrderPathGenerator` to `OptimizedGenerator` use `create_OptimizedGenerator()` instead\n",
    "* Numba does not support individual RandomState instances [Numba random](https://numba.pydata.org/numba-doc/dev/reference/numpysupported.html#random)\n",
    "* [Callback into the Python Interpreter from within JIT’ed code](http://numba.pydata.org/numba-doc/latest/user/withobjmode.html): `numba.objmode`"
   ]
  },
  {
   "cell_type": "code",
   "execution_count": 3,
   "metadata": {},
   "outputs": [
    {
     "data": {
      "text/html": [
       "<div>\n",
       "<style scoped>\n",
       "    .dataframe tbody tr th:only-of-type {\n",
       "        vertical-align: middle;\n",
       "    }\n",
       "\n",
       "    .dataframe tbody tr th {\n",
       "        vertical-align: top;\n",
       "    }\n",
       "\n",
       "    .dataframe thead th {\n",
       "        text-align: right;\n",
       "    }\n",
       "</style>\n",
       "<table border=\"1\" class=\"dataframe\">\n",
       "  <thead>\n",
       "    <tr style=\"text-align: right;\">\n",
       "      <th></th>\n",
       "      <th>source_path</th>\n",
       "      <th>next_node</th>\n",
       "      <th>next_path</th>\n",
       "      <th>prob</th>\n",
       "      <th>cumulated_prob</th>\n",
       "      <th>source_paths_idx</th>\n",
       "      <th>next_node_idx</th>\n",
       "      <th>next_path_idx</th>\n",
       "    </tr>\n",
       "  </thead>\n",
       "  <tbody>\n",
       "    <tr>\n",
       "      <th>0</th>\n",
       "      <td>(0-0,)</td>\n",
       "      <td>1-0</td>\n",
       "      <td>(0-0, 1-0)</td>\n",
       "      <td>0.500000</td>\n",
       "      <td>0.500000</td>\n",
       "      <td>0</td>\n",
       "      <td>10</td>\n",
       "      <td>101</td>\n",
       "    </tr>\n",
       "    <tr>\n",
       "      <th>1</th>\n",
       "      <td>(0-0,)</td>\n",
       "      <td>0-1</td>\n",
       "      <td>(0-0, 0-1)</td>\n",
       "      <td>0.500000</td>\n",
       "      <td>1.000000</td>\n",
       "      <td>0</td>\n",
       "      <td>1</td>\n",
       "      <td>100</td>\n",
       "    </tr>\n",
       "    <tr>\n",
       "      <th>2</th>\n",
       "      <td>(0-1,)</td>\n",
       "      <td>1-1</td>\n",
       "      <td>(0-1, 1-1)</td>\n",
       "      <td>0.333333</td>\n",
       "      <td>0.333333</td>\n",
       "      <td>1</td>\n",
       "      <td>11</td>\n",
       "      <td>104</td>\n",
       "    </tr>\n",
       "    <tr>\n",
       "      <th>3</th>\n",
       "      <td>(0-1,)</td>\n",
       "      <td>0-2</td>\n",
       "      <td>(0-1, 0-2)</td>\n",
       "      <td>0.333333</td>\n",
       "      <td>0.666667</td>\n",
       "      <td>1</td>\n",
       "      <td>2</td>\n",
       "      <td>103</td>\n",
       "    </tr>\n",
       "    <tr>\n",
       "      <th>4</th>\n",
       "      <td>(0-1,)</td>\n",
       "      <td>0-0</td>\n",
       "      <td>(0-1, 0-0)</td>\n",
       "      <td>0.333333</td>\n",
       "      <td>1.000000</td>\n",
       "      <td>1</td>\n",
       "      <td>0</td>\n",
       "      <td>102</td>\n",
       "    </tr>\n",
       "    <tr>\n",
       "      <th>...</th>\n",
       "      <td>...</td>\n",
       "      <td>...</td>\n",
       "      <td>...</td>\n",
       "      <td>...</td>\n",
       "      <td>...</td>\n",
       "      <td>...</td>\n",
       "      <td>...</td>\n",
       "      <td>...</td>\n",
       "    </tr>\n",
       "    <tr>\n",
       "      <th>1783</th>\n",
       "      <td>None</td>\n",
       "      <td>9-5</td>\n",
       "      <td>(9-5,)</td>\n",
       "      <td>0.008333</td>\n",
       "      <td>0.969444</td>\n",
       "      <td>460</td>\n",
       "      <td>95</td>\n",
       "      <td>95</td>\n",
       "    </tr>\n",
       "    <tr>\n",
       "      <th>1784</th>\n",
       "      <td>None</td>\n",
       "      <td>9-6</td>\n",
       "      <td>(9-6,)</td>\n",
       "      <td>0.008333</td>\n",
       "      <td>0.977778</td>\n",
       "      <td>460</td>\n",
       "      <td>96</td>\n",
       "      <td>96</td>\n",
       "    </tr>\n",
       "    <tr>\n",
       "      <th>1785</th>\n",
       "      <td>None</td>\n",
       "      <td>9-7</td>\n",
       "      <td>(9-7,)</td>\n",
       "      <td>0.008333</td>\n",
       "      <td>0.986111</td>\n",
       "      <td>460</td>\n",
       "      <td>97</td>\n",
       "      <td>97</td>\n",
       "    </tr>\n",
       "    <tr>\n",
       "      <th>1786</th>\n",
       "      <td>None</td>\n",
       "      <td>9-8</td>\n",
       "      <td>(9-8,)</td>\n",
       "      <td>0.008333</td>\n",
       "      <td>0.994444</td>\n",
       "      <td>460</td>\n",
       "      <td>98</td>\n",
       "      <td>98</td>\n",
       "    </tr>\n",
       "    <tr>\n",
       "      <th>1787</th>\n",
       "      <td>None</td>\n",
       "      <td>9-9</td>\n",
       "      <td>(9-9,)</td>\n",
       "      <td>0.005556</td>\n",
       "      <td>1.000000</td>\n",
       "      <td>460</td>\n",
       "      <td>99</td>\n",
       "      <td>99</td>\n",
       "    </tr>\n",
       "  </tbody>\n",
       "</table>\n",
       "<p>1788 rows × 8 columns</p>\n",
       "</div>"
      ],
      "text/plain": [
       "     source_path next_node   next_path      prob  cumulated_prob  \\\n",
       "0         (0-0,)       1-0  (0-0, 1-0)  0.500000        0.500000   \n",
       "1         (0-0,)       0-1  (0-0, 0-1)  0.500000        1.000000   \n",
       "2         (0-1,)       1-1  (0-1, 1-1)  0.333333        0.333333   \n",
       "3         (0-1,)       0-2  (0-1, 0-2)  0.333333        0.666667   \n",
       "4         (0-1,)       0-0  (0-1, 0-0)  0.333333        1.000000   \n",
       "...          ...       ...         ...       ...             ...   \n",
       "1783        None       9-5      (9-5,)  0.008333        0.969444   \n",
       "1784        None       9-6      (9-6,)  0.008333        0.977778   \n",
       "1785        None       9-7      (9-7,)  0.008333        0.986111   \n",
       "1786        None       9-8      (9-8,)  0.008333        0.994444   \n",
       "1787        None       9-9      (9-9,)  0.005556        1.000000   \n",
       "\n",
       "      source_paths_idx  next_node_idx  next_path_idx  \n",
       "0                    0             10            101  \n",
       "1                    0              1            100  \n",
       "2                    1             11            104  \n",
       "3                    1              2            103  \n",
       "4                    1              0            102  \n",
       "...                ...            ...            ...  \n",
       "1783               460             95             95  \n",
       "1784               460             96             96  \n",
       "1785               460             97             97  \n",
       "1786               460             98             98  \n",
       "1787               460             99             99  \n",
       "\n",
       "[1788 rows x 8 columns]"
      ]
     },
     "execution_count": 3,
     "metadata": {},
     "output_type": "execute_result"
    }
   ],
   "source": [
    "ogen = create_OptimizedGenerator(gen)\n",
    "debug_OptimizedGenerator(gen, ogen)"
   ]
  },
  {
   "cell_type": "markdown",
   "metadata": {},
   "source": [
    "## Verify RNG"
   ]
  },
  {
   "cell_type": "code",
   "execution_count": 4,
   "metadata": {},
   "outputs": [
    {
     "data": {
      "text/plain": [
       "array([[0.63696169, 0.26978671, 0.04097352],\n",
       "       [0.01652764, 0.81327024, 0.91275558]])"
      ]
     },
     "execution_count": 4,
     "metadata": {},
     "output_type": "execute_result"
    }
   ],
   "source": [
    "random_seed=0\n",
    "rng = np.random.default_rng(random_seed)\n",
    "rng.random((2,3))"
   ]
  },
  {
   "cell_type": "code",
   "execution_count": 5,
   "metadata": {},
   "outputs": [
    {
     "name": "stdout",
     "output_type": "stream",
     "text": [
      "[0.63696169 0.26978671 0.04097352]\n",
      "[0.01652764 0.81327024 0.91275558]\n"
     ]
    }
   ],
   "source": [
    "rng = np.random.default_rng(random_seed)\n",
    "print(rng.random(3))\n",
    "print(rng.random(3))"
   ]
  },
  {
   "cell_type": "code",
   "execution_count": 6,
   "metadata": {},
   "outputs": [
    {
     "name": "stdout",
     "output_type": "stream",
     "text": [
      "[0.63696169]\n",
      "[0.26978671]\n"
     ]
    }
   ],
   "source": [
    "rng = np.random.default_rng(random_seed)\n",
    "print(rng.random(1))\n",
    "print(rng.random(1))"
   ]
  },
  {
   "cell_type": "markdown",
   "metadata": {},
   "source": [
    "## Verify random_walks"
   ]
  },
  {
   "cell_type": "code",
   "execution_count": 7,
   "metadata": {},
   "outputs": [
    {
     "data": {
      "text/plain": [
       "[('0-0', '0-1', '0-0', '1-0', '1-1'),\n",
       " ('1-1', '1-2', '2-2', '2-1', '3-1'),\n",
       " ('2-2', '1-2', '1-3', '0-3', '0-2', '0-3')]"
      ]
     },
     "execution_count": 7,
     "metadata": {},
     "output_type": "execute_result"
    }
   ],
   "source": [
    "random_seed=1\n",
    "num_steps=4\n",
    "start_list = [('0-0',), ('1-1',), ('2-2','1-2')]\n",
    "rng = np.random.default_rng(random_seed)\n",
    "gen.random_walks(start_list, num_steps, rng, include_start=True)"
   ]
  },
  {
   "cell_type": "code",
   "execution_count": 8,
   "metadata": {},
   "outputs": [
    {
     "data": {
      "text/plain": [
       "[('0-0', '0-1', '0-0', '1-0', '1-1'),\n",
       " ('1-1', '1-2', '2-2', '2-1', '3-1'),\n",
       " ('2-2', '1-2', '1-3', '0-3', '0-2', '0-3')]"
      ]
     },
     "execution_count": 8,
     "metadata": {},
     "output_type": "execute_result"
    }
   ],
   "source": [
    "rng = np.random.default_rng(random_seed)\n",
    "def random_walks_py(start_list, num_steps, rng):\n",
    "    walks = list()\n",
    "    for start in start_list:\n",
    "        walks.append(gen.random_walk(start=start, num_steps=num_steps, rng=rng))\n",
    "    return walks\n",
    "random_walks_py(start_list, num_steps, rng)"
   ]
  },
  {
   "cell_type": "code",
   "execution_count": 9,
   "metadata": {},
   "outputs": [],
   "source": [
    "num_walks2=500\n",
    "num_steps2=10\n",
    "random_seed = 0\n",
    "rng = np.random.default_rng(random_seed)\n",
    "start_list2 = rng.choice(np.array(gen.source_paths, dtype=object), size=num_walks2)"
   ]
  },
  {
   "cell_type": "code",
   "execution_count": 10,
   "metadata": {},
   "outputs": [
    {
     "name": "stdout",
     "output_type": "stream",
     "text": [
      "1.77 ms ± 30.4 µs per loop (mean ± std. dev. of 7 runs, 1000 loops each)\n"
     ]
    }
   ],
   "source": [
    "rng = np.random.default_rng(random_seed)\n",
    "%timeit gen.random_walks(start_list2, num_steps2, rng)"
   ]
  },
  {
   "cell_type": "code",
   "execution_count": 11,
   "metadata": {},
   "outputs": [
    {
     "name": "stdout",
     "output_type": "stream",
     "text": [
      "19.5 ms ± 525 µs per loop (mean ± std. dev. of 7 runs, 100 loops each)\n"
     ]
    }
   ],
   "source": [
    "rng = np.random.default_rng(random_seed)\n",
    "%timeit random_walks_py(start_list2, num_steps2, rng)"
   ]
  },
  {
   "cell_type": "markdown",
   "metadata": {},
   "source": [
    "## Verify walk_probs(_df)"
   ]
  },
  {
   "cell_type": "code",
   "execution_count": 12,
   "metadata": {},
   "outputs": [],
   "source": [
    "num_steps=1\n",
    "pairwise=True"
   ]
  },
  {
   "cell_type": "code",
   "execution_count": 13,
   "metadata": {},
   "outputs": [
    {
     "data": {
      "text/html": [
       "<div>\n",
       "<style scoped>\n",
       "    .dataframe tbody tr th:only-of-type {\n",
       "        vertical-align: middle;\n",
       "    }\n",
       "\n",
       "    .dataframe tbody tr th {\n",
       "        vertical-align: top;\n",
       "    }\n",
       "\n",
       "    .dataframe thead th {\n",
       "        text-align: right;\n",
       "    }\n",
       "</style>\n",
       "<table border=\"1\" class=\"dataframe\">\n",
       "  <thead>\n",
       "    <tr style=\"text-align: right;\">\n",
       "      <th></th>\n",
       "      <th>0-0</th>\n",
       "      <th>0-1</th>\n",
       "      <th>0-2</th>\n",
       "      <th>0-3</th>\n",
       "      <th>0-4</th>\n",
       "      <th>0-5</th>\n",
       "      <th>0-6</th>\n",
       "      <th>0-7</th>\n",
       "      <th>0-8</th>\n",
       "      <th>0-9</th>\n",
       "      <th>...</th>\n",
       "      <th>9-0</th>\n",
       "      <th>9-1</th>\n",
       "      <th>9-2</th>\n",
       "      <th>9-3</th>\n",
       "      <th>9-4</th>\n",
       "      <th>9-5</th>\n",
       "      <th>9-6</th>\n",
       "      <th>9-7</th>\n",
       "      <th>9-8</th>\n",
       "      <th>9-9</th>\n",
       "    </tr>\n",
       "  </thead>\n",
       "  <tbody>\n",
       "    <tr>\n",
       "      <th>('0-0',)</th>\n",
       "      <td>0.000000</td>\n",
       "      <td>0.500000</td>\n",
       "      <td>0.000000</td>\n",
       "      <td>0.000000</td>\n",
       "      <td>0.000000</td>\n",
       "      <td>0.000000</td>\n",
       "      <td>0.0</td>\n",
       "      <td>0.0</td>\n",
       "      <td>0.0</td>\n",
       "      <td>0.0</td>\n",
       "      <td>...</td>\n",
       "      <td>0.0</td>\n",
       "      <td>0.0</td>\n",
       "      <td>0.0</td>\n",
       "      <td>0.0</td>\n",
       "      <td>0.000000</td>\n",
       "      <td>0.000000</td>\n",
       "      <td>0.000000</td>\n",
       "      <td>0.000000</td>\n",
       "      <td>0.000000</td>\n",
       "      <td>0.000000</td>\n",
       "    </tr>\n",
       "    <tr>\n",
       "      <th>('0-1',)</th>\n",
       "      <td>0.333333</td>\n",
       "      <td>0.000000</td>\n",
       "      <td>0.333333</td>\n",
       "      <td>0.000000</td>\n",
       "      <td>0.000000</td>\n",
       "      <td>0.000000</td>\n",
       "      <td>0.0</td>\n",
       "      <td>0.0</td>\n",
       "      <td>0.0</td>\n",
       "      <td>0.0</td>\n",
       "      <td>...</td>\n",
       "      <td>0.0</td>\n",
       "      <td>0.0</td>\n",
       "      <td>0.0</td>\n",
       "      <td>0.0</td>\n",
       "      <td>0.000000</td>\n",
       "      <td>0.000000</td>\n",
       "      <td>0.000000</td>\n",
       "      <td>0.000000</td>\n",
       "      <td>0.000000</td>\n",
       "      <td>0.000000</td>\n",
       "    </tr>\n",
       "    <tr>\n",
       "      <th>('0-2',)</th>\n",
       "      <td>0.000000</td>\n",
       "      <td>0.333333</td>\n",
       "      <td>0.000000</td>\n",
       "      <td>0.333333</td>\n",
       "      <td>0.000000</td>\n",
       "      <td>0.000000</td>\n",
       "      <td>0.0</td>\n",
       "      <td>0.0</td>\n",
       "      <td>0.0</td>\n",
       "      <td>0.0</td>\n",
       "      <td>...</td>\n",
       "      <td>0.0</td>\n",
       "      <td>0.0</td>\n",
       "      <td>0.0</td>\n",
       "      <td>0.0</td>\n",
       "      <td>0.000000</td>\n",
       "      <td>0.000000</td>\n",
       "      <td>0.000000</td>\n",
       "      <td>0.000000</td>\n",
       "      <td>0.000000</td>\n",
       "      <td>0.000000</td>\n",
       "    </tr>\n",
       "    <tr>\n",
       "      <th>('0-3',)</th>\n",
       "      <td>0.000000</td>\n",
       "      <td>0.000000</td>\n",
       "      <td>0.333333</td>\n",
       "      <td>0.000000</td>\n",
       "      <td>0.333333</td>\n",
       "      <td>0.000000</td>\n",
       "      <td>0.0</td>\n",
       "      <td>0.0</td>\n",
       "      <td>0.0</td>\n",
       "      <td>0.0</td>\n",
       "      <td>...</td>\n",
       "      <td>0.0</td>\n",
       "      <td>0.0</td>\n",
       "      <td>0.0</td>\n",
       "      <td>0.0</td>\n",
       "      <td>0.000000</td>\n",
       "      <td>0.000000</td>\n",
       "      <td>0.000000</td>\n",
       "      <td>0.000000</td>\n",
       "      <td>0.000000</td>\n",
       "      <td>0.000000</td>\n",
       "    </tr>\n",
       "    <tr>\n",
       "      <th>('0-4',)</th>\n",
       "      <td>0.000000</td>\n",
       "      <td>0.000000</td>\n",
       "      <td>0.000000</td>\n",
       "      <td>0.333333</td>\n",
       "      <td>0.000000</td>\n",
       "      <td>0.333333</td>\n",
       "      <td>0.0</td>\n",
       "      <td>0.0</td>\n",
       "      <td>0.0</td>\n",
       "      <td>0.0</td>\n",
       "      <td>...</td>\n",
       "      <td>0.0</td>\n",
       "      <td>0.0</td>\n",
       "      <td>0.0</td>\n",
       "      <td>0.0</td>\n",
       "      <td>0.000000</td>\n",
       "      <td>0.000000</td>\n",
       "      <td>0.000000</td>\n",
       "      <td>0.000000</td>\n",
       "      <td>0.000000</td>\n",
       "      <td>0.000000</td>\n",
       "    </tr>\n",
       "    <tr>\n",
       "      <th>...</th>\n",
       "      <td>...</td>\n",
       "      <td>...</td>\n",
       "      <td>...</td>\n",
       "      <td>...</td>\n",
       "      <td>...</td>\n",
       "      <td>...</td>\n",
       "      <td>...</td>\n",
       "      <td>...</td>\n",
       "      <td>...</td>\n",
       "      <td>...</td>\n",
       "      <td>...</td>\n",
       "      <td>...</td>\n",
       "      <td>...</td>\n",
       "      <td>...</td>\n",
       "      <td>...</td>\n",
       "      <td>...</td>\n",
       "      <td>...</td>\n",
       "      <td>...</td>\n",
       "      <td>...</td>\n",
       "      <td>...</td>\n",
       "      <td>...</td>\n",
       "    </tr>\n",
       "    <tr>\n",
       "      <th>('9-5',)</th>\n",
       "      <td>0.000000</td>\n",
       "      <td>0.000000</td>\n",
       "      <td>0.000000</td>\n",
       "      <td>0.000000</td>\n",
       "      <td>0.000000</td>\n",
       "      <td>0.000000</td>\n",
       "      <td>0.0</td>\n",
       "      <td>0.0</td>\n",
       "      <td>0.0</td>\n",
       "      <td>0.0</td>\n",
       "      <td>...</td>\n",
       "      <td>0.0</td>\n",
       "      <td>0.0</td>\n",
       "      <td>0.0</td>\n",
       "      <td>0.0</td>\n",
       "      <td>0.333333</td>\n",
       "      <td>0.000000</td>\n",
       "      <td>0.333333</td>\n",
       "      <td>0.000000</td>\n",
       "      <td>0.000000</td>\n",
       "      <td>0.000000</td>\n",
       "    </tr>\n",
       "    <tr>\n",
       "      <th>('9-6',)</th>\n",
       "      <td>0.000000</td>\n",
       "      <td>0.000000</td>\n",
       "      <td>0.000000</td>\n",
       "      <td>0.000000</td>\n",
       "      <td>0.000000</td>\n",
       "      <td>0.000000</td>\n",
       "      <td>0.0</td>\n",
       "      <td>0.0</td>\n",
       "      <td>0.0</td>\n",
       "      <td>0.0</td>\n",
       "      <td>...</td>\n",
       "      <td>0.0</td>\n",
       "      <td>0.0</td>\n",
       "      <td>0.0</td>\n",
       "      <td>0.0</td>\n",
       "      <td>0.000000</td>\n",
       "      <td>0.333333</td>\n",
       "      <td>0.000000</td>\n",
       "      <td>0.333333</td>\n",
       "      <td>0.000000</td>\n",
       "      <td>0.000000</td>\n",
       "    </tr>\n",
       "    <tr>\n",
       "      <th>('9-7',)</th>\n",
       "      <td>0.000000</td>\n",
       "      <td>0.000000</td>\n",
       "      <td>0.000000</td>\n",
       "      <td>0.000000</td>\n",
       "      <td>0.000000</td>\n",
       "      <td>0.000000</td>\n",
       "      <td>0.0</td>\n",
       "      <td>0.0</td>\n",
       "      <td>0.0</td>\n",
       "      <td>0.0</td>\n",
       "      <td>...</td>\n",
       "      <td>0.0</td>\n",
       "      <td>0.0</td>\n",
       "      <td>0.0</td>\n",
       "      <td>0.0</td>\n",
       "      <td>0.000000</td>\n",
       "      <td>0.000000</td>\n",
       "      <td>0.333333</td>\n",
       "      <td>0.000000</td>\n",
       "      <td>0.333333</td>\n",
       "      <td>0.000000</td>\n",
       "    </tr>\n",
       "    <tr>\n",
       "      <th>('9-8',)</th>\n",
       "      <td>0.000000</td>\n",
       "      <td>0.000000</td>\n",
       "      <td>0.000000</td>\n",
       "      <td>0.000000</td>\n",
       "      <td>0.000000</td>\n",
       "      <td>0.000000</td>\n",
       "      <td>0.0</td>\n",
       "      <td>0.0</td>\n",
       "      <td>0.0</td>\n",
       "      <td>0.0</td>\n",
       "      <td>...</td>\n",
       "      <td>0.0</td>\n",
       "      <td>0.0</td>\n",
       "      <td>0.0</td>\n",
       "      <td>0.0</td>\n",
       "      <td>0.000000</td>\n",
       "      <td>0.000000</td>\n",
       "      <td>0.000000</td>\n",
       "      <td>0.333333</td>\n",
       "      <td>0.000000</td>\n",
       "      <td>0.333333</td>\n",
       "    </tr>\n",
       "    <tr>\n",
       "      <th>('9-9',)</th>\n",
       "      <td>0.000000</td>\n",
       "      <td>0.000000</td>\n",
       "      <td>0.000000</td>\n",
       "      <td>0.000000</td>\n",
       "      <td>0.000000</td>\n",
       "      <td>0.000000</td>\n",
       "      <td>0.0</td>\n",
       "      <td>0.0</td>\n",
       "      <td>0.0</td>\n",
       "      <td>0.0</td>\n",
       "      <td>...</td>\n",
       "      <td>0.0</td>\n",
       "      <td>0.0</td>\n",
       "      <td>0.0</td>\n",
       "      <td>0.0</td>\n",
       "      <td>0.000000</td>\n",
       "      <td>0.000000</td>\n",
       "      <td>0.000000</td>\n",
       "      <td>0.000000</td>\n",
       "      <td>0.500000</td>\n",
       "      <td>0.000000</td>\n",
       "    </tr>\n",
       "  </tbody>\n",
       "</table>\n",
       "<p>100 rows × 100 columns</p>\n",
       "</div>"
      ],
      "text/plain": [
       "               0-0       0-1       0-2       0-3       0-4       0-5  0-6  \\\n",
       "('0-0',)  0.000000  0.500000  0.000000  0.000000  0.000000  0.000000  0.0   \n",
       "('0-1',)  0.333333  0.000000  0.333333  0.000000  0.000000  0.000000  0.0   \n",
       "('0-2',)  0.000000  0.333333  0.000000  0.333333  0.000000  0.000000  0.0   \n",
       "('0-3',)  0.000000  0.000000  0.333333  0.000000  0.333333  0.000000  0.0   \n",
       "('0-4',)  0.000000  0.000000  0.000000  0.333333  0.000000  0.333333  0.0   \n",
       "...            ...       ...       ...       ...       ...       ...  ...   \n",
       "('9-5',)  0.000000  0.000000  0.000000  0.000000  0.000000  0.000000  0.0   \n",
       "('9-6',)  0.000000  0.000000  0.000000  0.000000  0.000000  0.000000  0.0   \n",
       "('9-7',)  0.000000  0.000000  0.000000  0.000000  0.000000  0.000000  0.0   \n",
       "('9-8',)  0.000000  0.000000  0.000000  0.000000  0.000000  0.000000  0.0   \n",
       "('9-9',)  0.000000  0.000000  0.000000  0.000000  0.000000  0.000000  0.0   \n",
       "\n",
       "          0-7  0-8  0-9  ...  9-0  9-1  9-2  9-3       9-4       9-5  \\\n",
       "('0-0',)  0.0  0.0  0.0  ...  0.0  0.0  0.0  0.0  0.000000  0.000000   \n",
       "('0-1',)  0.0  0.0  0.0  ...  0.0  0.0  0.0  0.0  0.000000  0.000000   \n",
       "('0-2',)  0.0  0.0  0.0  ...  0.0  0.0  0.0  0.0  0.000000  0.000000   \n",
       "('0-3',)  0.0  0.0  0.0  ...  0.0  0.0  0.0  0.0  0.000000  0.000000   \n",
       "('0-4',)  0.0  0.0  0.0  ...  0.0  0.0  0.0  0.0  0.000000  0.000000   \n",
       "...       ...  ...  ...  ...  ...  ...  ...  ...       ...       ...   \n",
       "('9-5',)  0.0  0.0  0.0  ...  0.0  0.0  0.0  0.0  0.333333  0.000000   \n",
       "('9-6',)  0.0  0.0  0.0  ...  0.0  0.0  0.0  0.0  0.000000  0.333333   \n",
       "('9-7',)  0.0  0.0  0.0  ...  0.0  0.0  0.0  0.0  0.000000  0.000000   \n",
       "('9-8',)  0.0  0.0  0.0  ...  0.0  0.0  0.0  0.0  0.000000  0.000000   \n",
       "('9-9',)  0.0  0.0  0.0  ...  0.0  0.0  0.0  0.0  0.000000  0.000000   \n",
       "\n",
       "               9-6       9-7       9-8       9-9  \n",
       "('0-0',)  0.000000  0.000000  0.000000  0.000000  \n",
       "('0-1',)  0.000000  0.000000  0.000000  0.000000  \n",
       "('0-2',)  0.000000  0.000000  0.000000  0.000000  \n",
       "('0-3',)  0.000000  0.000000  0.000000  0.000000  \n",
       "('0-4',)  0.000000  0.000000  0.000000  0.000000  \n",
       "...            ...       ...       ...       ...  \n",
       "('9-5',)  0.333333  0.000000  0.000000  0.000000  \n",
       "('9-6',)  0.000000  0.333333  0.000000  0.000000  \n",
       "('9-7',)  0.333333  0.000000  0.333333  0.000000  \n",
       "('9-8',)  0.000000  0.333333  0.000000  0.333333  \n",
       "('9-9',)  0.000000  0.000000  0.500000  0.000000  \n",
       "\n",
       "[100 rows x 100 columns]"
      ]
     },
     "execution_count": 13,
     "metadata": {},
     "output_type": "execute_result"
    }
   ],
   "source": [
    "gen.walk_probs_df(num_steps=num_steps, pairwise=pairwise)"
   ]
  },
  {
   "cell_type": "code",
   "execution_count": 14,
   "metadata": {},
   "outputs": [],
   "source": [
    "# see disp_pmi_row in Plots_ExpVis_synth.ipynb\n",
    "def disp_probs_row(gen, num_steps=num_steps, node='2-2', title=None, vmax=None, figureargs=dict(dpi=200)):\n",
    "    probs = gen.walk_probs(num_steps=num_steps, pairwise=True, aggregate_steps=True)\n",
    "    row = np.resize(probs[gen._source_paths_dict[(node,)]], (size,size)).T\n",
    "    fig = plt.figure(**figureargs)\n",
    "    ax = sns.heatmap(row, annot=True, cmap=plt.cm.Blues, ax=fig.gca(), vmin=0, vmax=vmax)\n",
    "    ax.invert_yaxis()\n",
    "    if title is not None:\n",
    "        fig.suptitle(title)\n",
    "    return fig"
   ]
  },
  {
   "cell_type": "code",
   "execution_count": 15,
   "metadata": {},
   "outputs": [
    {
     "data": {
      "image/png": "[encoded data removed]",
      "text/plain": [
       "<Figure size 1200x800 with 2 Axes>"
      ]
     },
     "metadata": {
      "needs_background": "light"
     },
     "output_type": "display_data"
    }
   ],
   "source": [
    "# checking positions\n",
    "node='3-4'\n",
    "num_steps=2\n",
    "disp_probs_row(gen, num_steps=num_steps, node=node)\n",
    "None"
   ]
  },
  {
   "cell_type": "code",
   "execution_count": 16,
   "metadata": {},
   "outputs": [
    {
     "data": {
      "text/plain": [
       "1-4    0.046875\n",
       "2-3    0.062500\n",
       "2-4    0.125000\n",
       "2-5    0.062500\n",
       "3-2    0.015625\n",
       "3-3    0.125000\n",
       "3-4    0.125000\n",
       "3-5    0.125000\n",
       "3-6    0.015625\n",
       "4-3    0.062500\n",
       "4-4    0.125000\n",
       "4-5    0.062500\n",
       "5-4    0.046875\n",
       "Name: ('3-4',), dtype: float64"
      ]
     },
     "execution_count": 16,
     "metadata": {},
     "output_type": "execute_result"
    }
   ],
   "source": [
    "probs = gen.walk_probs_df(num_steps=num_steps, pairwise=True).loc[str((node,))]\n",
    "probs[probs>0]"
   ]
  },
  {
   "cell_type": "code",
   "execution_count": 17,
   "metadata": {},
   "outputs": [],
   "source": [
    "def walk_probs_py(num_steps, pairwise=True):\n",
    "    source_list = gen.source_paths_len1 if pairwise else gen.source_paths\n",
    "    idx = gen._target_nodes_dict\n",
    "    PMI = np.zeros(shape=(len(source_list), len(gen.target_nodes)))\n",
    "    for iu,u in enumerate(source_list):\n",
    "        paths = {u: 1/num_steps}\n",
    "        for _ in range(num_steps):\n",
    "            paths_new = collections.defaultdict(float)\n",
    "            for source,source_prob in paths.items():\n",
    "                for _,next_node,prob in gen.transition_probs(source):\n",
    "                    prob_new = source_prob * prob\n",
    "                    PMI[iu,idx[next_node]] += prob_new\n",
    "                    source_new = gen.find_rule_key((*source, next_node))\n",
    "                    paths_new[source_new] += prob_new\n",
    "            paths = paths_new\n",
    "    return PMI"
   ]
  },
  {
   "cell_type": "code",
   "execution_count": 18,
   "metadata": {},
   "outputs": [
    {
     "data": {
      "text/plain": [
       "0.0"
      ]
     },
     "execution_count": 18,
     "metadata": {},
     "output_type": "execute_result"
    }
   ],
   "source": [
    "x = gen.walk_probs(num_steps, pairwise)\n",
    "y = walk_probs_py(num_steps, pairwise)\n",
    "np.abs(x-y).max()"
   ]
  },
  {
   "cell_type": "code",
   "execution_count": 19,
   "metadata": {},
   "outputs": [
    {
     "name": "stdout",
     "output_type": "stream",
     "text": [
      "15.3 ms ± 62.3 µs per loop (mean ± std. dev. of 7 runs, 100 loops each)\n"
     ]
    }
   ],
   "source": [
    "num_steps3=10\n",
    "rng = np.random.default_rng(random_seed)\n",
    "%timeit gen.walk_probs(num_steps3, pairwise)"
   ]
  },
  {
   "cell_type": "code",
   "execution_count": 20,
   "metadata": {},
   "outputs": [
    {
     "name": "stdout",
     "output_type": "stream",
     "text": [
      "444 ms ± 8.82 ms per loop (mean ± std. dev. of 7 runs, 1 loop each)\n"
     ]
    }
   ],
   "source": [
    "rng = np.random.default_rng(random_seed)\n",
    "%timeit walk_probs_py(num_steps3, pairwise)"
   ]
  },
  {
   "cell_type": "markdown",
   "metadata": {},
   "source": [
    "## Verify PMI and embedding"
   ]
  },
  {
   "cell_type": "code",
   "execution_count": 21,
   "metadata": {},
   "outputs": [
    {
     "name": "stdout",
     "output_type": "stream",
     "text": [
      "Wall time: 2.28 s\n"
     ]
    }
   ],
   "source": [
    "netmf_para = dict(gen=gen, dimension=16, pairwise=False)\n",
    "netmf_train_para = dict(window_size=10, negative=1, optimized=True)\n",
    "emb_H1 = HON_NetMF_Embedding(**netmf_para)\n",
    "%time emb_H1.train(**netmf_train_para, use_numba=False)"
   ]
  },
  {
   "cell_type": "code",
   "execution_count": 22,
   "metadata": {},
   "outputs": [
    {
     "name": "stdout",
     "output_type": "stream",
     "text": [
      "Wall time: 86.8 ms\n"
     ]
    }
   ],
   "source": [
    "emb_H2 = HON_NetMF_Embedding(**netmf_para)\n",
    "%time emb_H2.train(**netmf_train_para, use_numba=True)"
   ]
  },
  {
   "cell_type": "code",
   "execution_count": 23,
   "metadata": {},
   "outputs": [
    {
     "data": {
      "text/plain": [
       "1.4210854715202004e-14"
      ]
     },
     "execution_count": 23,
     "metadata": {},
     "output_type": "execute_result"
    }
   ],
   "source": [
    "np.abs(emb_H1.PMI.values-emb_H2.PMI.values).max()"
   ]
  },
  {
   "cell_type": "code",
   "execution_count": 24,
   "metadata": {},
   "outputs": [
    {
     "data": {
      "text/plain": [
       "2.0788926136106056e-14"
      ]
     },
     "execution_count": 24,
     "metadata": {},
     "output_type": "execute_result"
    }
   ],
   "source": [
    "np.abs(emb_H1.source.embedding.values-emb_H2.source.embedding.values).max()"
   ]
  },
  {
   "cell_type": "code",
   "execution_count": 25,
   "metadata": {},
   "outputs": [
    {
     "name": "stdout",
     "output_type": "stream",
     "text": [
      "Wall time: 201 ms\n"
     ]
    }
   ],
   "source": [
    "grarep_para = dict(gen=gen, dimension=16, num_steps=4, pairwise=False, neg_stationary=False)\n",
    "grarep_train_para = dict(negative=1, normalize=True)\n",
    "emb_G1 = HON_GraRep_Embedding(**grarep_para)\n",
    "%time emb_G1.train(**grarep_train_para, use_numba=False)"
   ]
  },
  {
   "cell_type": "code",
   "execution_count": 26,
   "metadata": {},
   "outputs": [
    {
     "name": "stdout",
     "output_type": "stream",
     "text": [
      "Wall time: 36.9 ms\n"
     ]
    }
   ],
   "source": [
    "emb_G2 = HON_GraRep_Embedding(**grarep_para)\n",
    "%time emb_G2.train(**grarep_train_para, use_numba=True)"
   ]
  },
  {
   "cell_type": "code",
   "execution_count": 27,
   "metadata": {},
   "outputs": [
    {
     "name": "stdout",
     "output_type": "stream",
     "text": [
      "1 0.0\n",
      "2 0.0\n",
      "3 0.0\n",
      "4 0.0\n"
     ]
    }
   ],
   "source": [
    "for step in range(1, grarep_para['num_steps']+1):\n",
    "    print(step, np.abs(emb_G1.PMI(step).values-emb_G2.PMI(step).values).max())"
   ]
  },
  {
   "cell_type": "code",
   "execution_count": 28,
   "metadata": {},
   "outputs": [
    {
     "data": {
      "text/plain": [
       "0.0"
      ]
     },
     "execution_count": 28,
     "metadata": {},
     "output_type": "execute_result"
    }
   ],
   "source": [
    "np.abs(emb_G1.source.embedding.values-emb_G2.source.embedding.values).max()"
   ]
  },
  {
   "cell_type": "code",
   "execution_count": 29,
   "metadata": {},
   "outputs": [
    {
     "name": "stdout",
     "output_type": "stream",
     "text": [
      "Wall time: 5.07 s\n"
     ]
    }
   ],
   "source": [
    "deepwalk_para = dict(gen=gen, dimension=16, reuse_walks=True)\n",
    "deepwalk_train_para = dict(random_seed=0)\n",
    "emb_D1 = HON_DeepWalk_Embedding(**deepwalk_para)\n",
    "%time emb_D1.train(**deepwalk_train_para, use_numba=False)"
   ]
  },
  {
   "cell_type": "code",
   "execution_count": 30,
   "metadata": {},
   "outputs": [
    {
     "name": "stdout",
     "output_type": "stream",
     "text": [
      "Wall time: 1.86 s\n"
     ]
    }
   ],
   "source": [
    "emb_D2 = HON_DeepWalk_Embedding(**deepwalk_para)\n",
    "%time emb_D2.train(**deepwalk_train_para, use_numba=True)"
   ]
  },
  {
   "cell_type": "code",
   "execution_count": 31,
   "metadata": {},
   "outputs": [
    {
     "data": {
      "text/plain": [
       "0.0"
      ]
     },
     "execution_count": 31,
     "metadata": {},
     "output_type": "execute_result"
    }
   ],
   "source": [
    "np.abs(emb_D1.source.embedding.values-emb_D2.source.embedding.values).max()"
   ]
  },
  {
   "cell_type": "code",
   "execution_count": null,
   "metadata": {},
   "outputs": [],
   "source": []
  }
 ],
 "metadata": {
  "kernelspec": {
   "display_name": "Python 3",
   "language": "python",
   "name": "python3"
  },
  "language_info": {
   "codemirror_mode": {
    "name": "ipython",
    "version": 3
   },
   "file_extension": ".py",
   "mimetype": "text/x-python",
   "name": "python",
   "nbconvert_exporter": "python",
   "pygments_lexer": "ipython3",
   "version": "3.7.9"
  }
 },
 "nbformat": 4,
 "nbformat_minor": 4
}
