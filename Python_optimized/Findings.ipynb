{
 "cells": [
  {
   "cell_type": "markdown",
   "metadata": {},
   "source": [
    "# Init"
   ]
  },
  {
   "cell_type": "code",
   "execution_count": 1,
   "metadata": {},
   "outputs": [],
   "source": [
    "%matplotlib inline\n",
    "#%matplotlib notebook\n",
    "import numpy as np\n",
    "import pandas as pd\n",
    "import math\n",
    "from collections import defaultdict, Counter\n",
    "import matplotlib.pyplot as plt\n",
    "from sklearn.manifold import TSNE\n",
    "import seaborn as sns"
   ]
  },
  {
   "cell_type": "code",
   "execution_count": null,
   "metadata": {},
   "outputs": [],
   "source": [
    "from HigherOrderPathGenerator import CrossValidation_HigherOrderPathGenerator\n",
    "from Embedding import HON_DeepWalk_Embedding, HONEM_Embedding, HON_NetMF_Embedding, HON_GraRep_Embedding, HON_Transition_Hierarchical_Embedding\n",
    "from SyntheticNetworks import create_lattice_2nd_order_dynamic\n",
    "from Visualizations import Visualization, EmbeddingView, Lattice2D_EmbeddingView"
   ]
  },
  {
   "cell_type": "code",
   "execution_count": null,
   "metadata": {},
   "outputs": [],
   "source": [
    "size = 10\n",
    "omega = 0.5\n",
    "latgen = create_lattice_2nd_order_dynamic(size, omega, lattice_sep='-', check=True)"
   ]
  },
  {
   "cell_type": "code",
   "execution_count": null,
   "metadata": {},
   "outputs": [],
   "source": [
    "for delta,f in latgen.creator.neighbor_funcs.items():\n",
    "    print(delta,f.__name__)"
   ]
  },
  {
   "cell_type": "code",
   "execution_count": null,
   "metadata": {},
   "outputs": [],
   "source": [
    "def disp_example_probabilities(example_indices):\n",
    "    for ex in example_indices:\n",
    "        source = latgen.source_paths[ex]\n",
    "        name = 'FON' if len(source)==1 else ('HON ' + ('vertical' if source[0].split('-')[0]==source[1].split('-')[0] else 'horizontal'))\n",
    "        probs = { next_node:prob for _,next_node,prob in latgen.transition_probs(source)}\n",
    "        name += ', corner' if len(probs)==2 else ', border' if len(probs)==3 else ', interior'\n",
    "        print(source, '->', probs, name)\n",
    "disp_example_probabilities([0,1,10,11, 128,101,131,134, 102,100,132,133])\n",
    "del disp_example_probabilities"
   ]
  },
  {
   "cell_type": "code",
   "execution_count": null,
   "metadata": {},
   "outputs": [],
   "source": [
    "# This might be included into Lattice2D_EmbeddingView\n",
    "def calc_edge_stats(edges: np.ndarray, title=None, plot: bool = True) -> pd.DataFrame:\n",
    "    # assume edges.shape = (#edge pairs, embedding dimension)\n",
    "    mean_edge = edges.mean(axis=0)\n",
    "    mean_edge1 = mean_edge / np.linalg.norm(mean_edge)\n",
    "    edges_len = np.linalg.norm(edges,axis=1)\n",
    "    edges_spr = (edges @ mean_edge1) / edges_len\n",
    "    edges_angle = np.arccos( edges_spr.clip(-1,1) )\n",
    "    stats = pd.DataFrame({'len': edges_len, 'angle': edges_angle, 'angle360': edges_angle *180/math.pi})\n",
    "    if plot:\n",
    "        ax = stats.plot.scatter('len','angle', xlim=(0,max(edges_len)), ylim=(0,math.pi), c='#0000FF80')\n",
    "        #ax = stats.plot.scatter('len','angle360', xlim=(0,max(edges_len)), ylim=(0,180))\n",
    "        if title is not None:\n",
    "            ax.figure.suptitle(title)\n",
    "        ax.tick_params(labelright=True, right=True)\n",
    "        ax.set_yticks(math.pi * np.linspace(0,1,num=5))\n",
    "        ax.set_yticklabels(['0',r'$\\frac{\\pi}{4}$',r'$\\frac{\\pi}{2}$',r'$\\frac{3\\pi}{4}$',r'$\\pi$'])\n",
    "    return stats"
   ]
  },
  {
   "cell_type": "markdown",
   "metadata": {},
   "source": [
    "# HONEM\n",
    "* HONEM utilizes pairwise probabilities to describe how similar two nodes are\n",
    "  * For simplicity, it just takes the output of BuildHON+\n",
    "  * The neighborhood matrix defines a distance between two nodes, which is derived from aggregating transition probabilities.\n",
    "However, these distances lack a theoretical justification like e.g. multistep transition probabilities\n",
    "  * Moreover, GraRep argues against aggregating multistep transition probabilities\n",
    "* Based on BuildHON+, which includes pruning of the rules for efficiency\n",
    "  * Pruning rules should not affect the resulting probability model and therefore neither any down stream tasks\n",
    "  * The effect of a small change to some estimated probabilities in BuildHON+ on the resulting model are still small (continuity). However, as soon as rule pruning kicks in, it may have a significant impact to the neighborhood matrix (**discontinuity**)."
   ]
  },
  {
   "cell_type": "code",
   "execution_count": null,
   "metadata": {},
   "outputs": [],
   "source": [
    "emb_H = HONEM_Embedding(latgen, 128)\n",
    "%time emb_H.train()\n",
    "print('effective dimension', emb_H.dimension)"
   ]
  },
  {
   "cell_type": "code",
   "execution_count": null,
   "metadata": {
    "scrolled": false
   },
   "outputs": [],
   "source": [
    "def examine_HONEM_second_order_neighborhood(node):\n",
    "    print('relevant transition probabilities:')\n",
    "    keys = list(key for key in latgen.source_paths if len(key)==2 and key[0]==node)\n",
    "    for key in keys:\n",
    "        print(repr(key), '->', {next_node:prob for _,next_node,prob in latgen.transition_probs(key)})\n",
    "    print('group these probabilities by their next_node:')\n",
    "    n2_tmp = defaultdict(list)\n",
    "    for key in keys:\n",
    "        for _,next_node,prob in latgen.transition_probs(key):\n",
    "            n2_tmp[next_node].append(prob)\n",
    "    for n,a in sorted(n2_tmp.items()):\n",
    "        print(' %s: %s' % (n,a))\n",
    "    print('corresponding row of the 2nd order HONEM neighborhood matrix:')\n",
    "    n2_row = emb_H.neighborhood_matrix(2).loc[emb_H.node2str((node,))]\n",
    "    n2_row_nz = n2_row[n2_row!=0]\n",
    "    for idx,dist in n2_row_nz.items():\n",
    "        print(' %s: %f' % (idx,dist))\n",
    "examine_HONEM_second_order_neighborhood('2-2')\n",
    "del examine_HONEM_second_order_neighborhood"
   ]
  },
  {
   "cell_type": "markdown",
   "metadata": {},
   "source": [
    "## T-SNE visualization of HONEM for the lattice with 2nd order dynamics\n",
    "* Horizontal neighbors are closer than vertical ones (as designed)\n",
    "* Needed to try different random_states for TSNE\n",
    "* Instead tried to find a projection (based on determining averages for the embeddings of horizontal and vertical edges)\n",
    "  * Average edge lengths in embedding space are indeed shorter for horizontal edges compared to vertical ones\n",
    "  * However, the individual edges are almost perpendicular to their average, disproving the initial intuition of some simple manifold with mild curvature. (Surprisingly, the projection worked well.)"
   ]
  },
  {
   "cell_type": "code",
   "execution_count": null,
   "metadata": {},
   "outputs": [],
   "source": [
    "ev_H = Lattice2D_EmbeddingView(emb_H, edge_distance=1)\n",
    "vis_H = ev_H.visualize_TSNE(random_state=9, n_iter=1000)\n",
    "vis_H.plot2(figsize=(9,4), dpi=400)\n",
    "vis_H"
   ]
  },
  {
   "cell_type": "code",
   "execution_count": null,
   "metadata": {},
   "outputs": [],
   "source": [
    "# for comparison\n",
    "ev_H.visualize_lattice('Ground truth (FON)').plot2(figsize=(9,4), dpi=400)"
   ]
  },
  {
   "cell_type": "code",
   "execution_count": null,
   "metadata": {},
   "outputs": [],
   "source": [
    "ev_H.visualize_proj(disp_lengths=True).plot2(figsize=(9,4), dpi=400)"
   ]
  },
  {
   "cell_type": "code",
   "execution_count": null,
   "metadata": {},
   "outputs": [],
   "source": [
    "calc_edge_stats(ev_H.node_embedding_diff(latgen.creator.horizontal_edges1), 'Horizontal edges')\n",
    "calc_edge_stats(ev_H.node_embedding_diff(latgen.creator.vertical_edges1), 'Vertical edges')\n",
    "None"
   ]
  },
  {
   "cell_type": "markdown",
   "metadata": {},
   "source": [
    "# Embedding HON Random Walks\n",
    "## HON DeepWalk\n",
    "* Combining HON random walks with Word2vec\n",
    "* Horizontal neighbors are closer than vertical ones (as designed)\n",
    "  * Projection-visualization works better than for HONEM (smaller angle)"
   ]
  },
  {
   "cell_type": "code",
   "execution_count": null,
   "metadata": {},
   "outputs": [],
   "source": [
    "emb_D = HON_DeepWalk_Embedding(latgen, 128)\n",
    "%time emb_D.train(window_size=10)\n",
    "print('effective dimension', emb_D.dimension) # unchanged"
   ]
  },
  {
   "cell_type": "code",
   "execution_count": null,
   "metadata": {},
   "outputs": [],
   "source": [
    "ev_D = Lattice2D_EmbeddingView(emb_D, edge_distance=1)\n",
    "vis_D = ev_D.visualize_TSNE(random_state=6, n_iter=1000)\n",
    "vis_D.plot2(figsize=(9,3), dpi=400)\n",
    "vis_D"
   ]
  },
  {
   "cell_type": "code",
   "execution_count": null,
   "metadata": {},
   "outputs": [],
   "source": [
    "ev_D.visualize_proj().plot2(figsize=(9,3), dpi=400)"
   ]
  },
  {
   "cell_type": "code",
   "execution_count": null,
   "metadata": {},
   "outputs": [],
   "source": [
    "calc_edge_stats(ev_D.node_embedding_diff(latgen.creator.horizontal_edges1), 'Horizontal edges')\n",
    "calc_edge_stats(ev_D.node_embedding_diff(latgen.creator.vertical_edges1), 'Vertical edges')\n",
    "None"
   ]
  },
  {
   "cell_type": "markdown",
   "metadata": {},
   "source": [
    "## HON NetMF (pairwise)\n",
    "* Utilizing a breadth-first search to speed up calculation of PMI for large window_sizes.\n",
    "* Approximates HON DeepWalk (negative=1 works better that e.g. negative=5)\n",
    "* Horizontal neighbors are closer than vertical ones (as designed and expected from DeepWalk)"
   ]
  },
  {
   "cell_type": "code",
   "execution_count": null,
   "metadata": {},
   "outputs": [],
   "source": [
    "emb_N_pairs = HON_NetMF_Embedding(latgen, 128, pairwise=True)\n",
    "%time emb_N_pairs.train(window_size=10, negative=1, optimized=True)\n",
    "print('effective dimension', emb_N_pairs.dimension)"
   ]
  },
  {
   "cell_type": "code",
   "execution_count": null,
   "metadata": {},
   "outputs": [],
   "source": [
    "ev_N_pairs = Lattice2D_EmbeddingView(emb_N_pairs, use_source=True, edge_distance=1)\n",
    "vis_N_pairs = ev_N_pairs.visualize_TSNE(random_state=19, n_iter=1000)\n",
    "vis_N_pairs.plot2(figsize=(9,4), dpi=400)"
   ]
  },
  {
   "cell_type": "code",
   "execution_count": null,
   "metadata": {},
   "outputs": [],
   "source": [
    "calc_edge_stats(ev_N_pairs.node_embedding_diff(latgen.creator.horizontal_edges1), 'Horizontal edges')\n",
    "calc_edge_stats(ev_N_pairs.node_embedding_diff(latgen.creator.vertical_edges1), 'Vertical edges')\n",
    "None"
   ]
  },
  {
   "cell_type": "code",
   "execution_count": null,
   "metadata": {},
   "outputs": [],
   "source": [
    "ev_N_pairs.visualize_proj(disp_lengths=True).plot2(figsize=(9,4), dpi=400)"
   ]
  },
  {
   "cell_type": "code",
   "execution_count": null,
   "metadata": {},
   "outputs": [],
   "source": []
  },
  {
   "cell_type": "markdown",
   "metadata": {},
   "source": [
    "## HON NetMF (paths)\n",
    "* Pairwise-NetMF embedds keys like '0-0' while Paths-NetMF embedds keys like ('0-0','1-0'), therefore the latter has to embedd more keys.\n",
    "* Plots:\n",
    "  1. if key is a pair of nodes, direction(key) contains the difference between their corresponding coordinates; otherwise it is 'none'. Example: for the key ('0-0','1-0') indicating 'moving to the right', its direction is '(1,0)' and (x_orig,y_orig) correspond to the **second** node of the key. See the third plot for details.\n",
    "  2. Excluding all keys of length > 1 reveals a grid structure similar to DeepWalk and NetMF (pairwise): horizontal neighbors are closer than vertical ones\n",
    "  3. This plot was rotated such that the horizontal direction of the lattice correcponds to the x-axis and the vertical direction to the negative y-axis."
   ]
  },
  {
   "cell_type": "code",
   "execution_count": null,
   "metadata": {},
   "outputs": [],
   "source": []
  },
  {
   "cell_type": "code",
   "execution_count": null,
   "metadata": {},
   "outputs": [],
   "source": [
    "emb_N = HON_NetMF_Embedding(latgen, 128, pairwise=False)\n",
    "%time emb_N.train(window_size=5, negative=5)\n",
    "print('effective dimension', emb_N.dimension)"
   ]
  },
  {
   "cell_type": "code",
   "execution_count": null,
   "metadata": {},
   "outputs": [],
   "source": [
    "ev_N = Lattice2D_EmbeddingView(emb_N, use_source=True, edge_distance=1)\n",
    "vis_N = ev_N.visualize_TSNE(random_state=7, n_iter=2000)\n",
    "vis_N.plot2(figsize=(9,4), dpi=400, style='direction', alpha=0.5)"
   ]
  },
  {
   "cell_type": "code",
   "execution_count": null,
   "metadata": {},
   "outputs": [],
   "source": [
    "print('Ignore embeddings of source-keys with length > 1 (i.e. only FON probabilities)')\n",
    "vis_N.plot1(figsize=(6,6), dpi=400, filter_col='key_len', filter_values={1}, hue='x_orig')"
   ]
  },
  {
   "cell_type": "code",
   "execution_count": null,
   "metadata": {},
   "outputs": [],
   "source": [
    "# use edges to display node hierarchy\n",
    "#vis_N._edges = list( (ev_N.key2str(key), ev_N.key2str(ev_N.node2key(key[-1]))) for key in ev_N.keys if len(key)>1 )\n",
    "#vis_N.config['edges'] = 'hack...'\n",
    "# markers\n",
    "dir_syms = { 'none': 'o', 'left': '<', 'right': '>', 'up': '^', 'down': 'v' }\n",
    "dir_rank = { k:i for i,k in enumerate(dir_syms.keys()) }\n",
    "vis_N._data['sort'] = vis_N._data['direction'].map(dir_rank)\n",
    "vis_N._data.sort_values(['sort'], inplace=True)\n",
    "#vis_N._data.sort_values(['direction'], inplace=True, key=lambda d:dir_rank[d]) # new in pandas version 1.1.0\n",
    "\n",
    "vis_N.plot1(figsize=(7,7), dpi=400, style='direction', markers=list(dir_syms.values())) #, hue='x_orig')\n",
    "#vis_N.save_describe('tsne_netmf-w5n5-mix_synth_dir.png', comment)"
   ]
  },
  {
   "cell_type": "code",
   "execution_count": null,
   "metadata": {},
   "outputs": [],
   "source": []
  },
  {
   "cell_type": "markdown",
   "metadata": {},
   "source": [
    "# Embedding HON Transition Probabilities (Random Walk of length1)\n",
    "## HON NetMF for window_size=1\n",
    "* Random walks of length 1 are just transition probabilities\n",
    "* Split the nodes of the lattice into two groups (even and odd) based on the sum of their positions in the lattice.\n",
    "  * 'even' nodes are esclusively connected to 'odd' nodes and vice-versa. Since positive probabilities implies that the scalar product of their embeddings should be bigger than the same for probability zero. \n",
    "  * Due to sharing common neighbors, 'even' nodes are tied together. The same holds for 'odd' ones.\n",
    "  * Negative sampling pushes 'even' and 'odd' nodes away from each other. Hence, the scalar product of their embeddings should be strongly negative.\n",
    "  * Therefore, the embedding splits into two clusters.\n",
    "* This holds for both versions: pairs and paths."
   ]
  },
  {
   "cell_type": "code",
   "execution_count": null,
   "metadata": {},
   "outputs": [],
   "source": [
    "emb_N1 = HON_NetMF_Embedding(latgen, 128, pairwise=False)\n",
    "%time emb_N1.train(window_size=1, negative=5)\n",
    "emb_N1_pairs = HON_NetMF_Embedding(latgen, 128, pairwise=True)\n",
    "%time emb_N1_pairs.train(window_size=1, negative=5)"
   ]
  },
  {
   "cell_type": "code",
   "execution_count": null,
   "metadata": {},
   "outputs": [],
   "source": []
  },
  {
   "cell_type": "code",
   "execution_count": null,
   "metadata": {},
   "outputs": [],
   "source": [
    "# Autotransform fails because the vertical edges point in opposite directions for the two groups (even and odd)\n",
    "ev_N1_pairs = Lattice2D_EmbeddingView(emb_N1_pairs, use_source=True, edge_distance=2)\n",
    "vis_N1_pairs = ev_N1_pairs.visualize_TSNE(random_state=12, n_iter=1000, autotransform=False)\n",
    "vis_N1_pairs.plot2(figsize=(9,4), dpi=400, style='direction', alpha=0.5)"
   ]
  },
  {
   "cell_type": "code",
   "execution_count": null,
   "metadata": {},
   "outputs": [],
   "source": [
    "# embedding is split into two clusters: even and odd\n",
    "vis_N1_pairs.plot1(hue='parity', figsize=(5,4))"
   ]
  },
  {
   "cell_type": "code",
   "execution_count": null,
   "metadata": {
    "scrolled": false
   },
   "outputs": [],
   "source": [
    "ev_N1 = Lattice2D_EmbeddingView(emb_N1, use_source=True, edge_distance=2)\n",
    "vis_N1 = ev_N1.visualize_TSNE(random_state=6, n_iter=4000, autotransform=False) # random_state=2,6,19\n",
    "vis_N1.plot2(figsize=(9,4), dpi=400, style='direction', alpha=0.5)"
   ]
  },
  {
   "cell_type": "code",
   "execution_count": null,
   "metadata": {},
   "outputs": [],
   "source": [
    "# check PMI for window_size=1\n",
    "def check_pmi(start):\n",
    "    start_str = emb_N1.path2str(start)\n",
    "    pmi = emb_N1.PMI.loc[start_str] # transition = {'0-0':0.25, '1-1':0.25}\n",
    "    print('pmi',(pmi[pmi!=0].sort_values()).to_dict())\n",
    "    sd = pd.Series({ emb_N1.node2str(v):p for _,v,p in latgen.transition_probs(start=()) })\n",
    "    pmi_mul_sd = (pmi*sd).sort_index()\n",
    "    print('pmi * sd',(pmi_mul_sd[pmi_mul_sd!=0].sort_values()).to_dict())\n",
    "    print('transition prob',{next_node:prob for _,next_node,prob in latgen.transition_probs(start)})\n",
    "#check_pmi( ('0-0','1-0') )\n",
    "check_pmi( ('5-5','6-5') )"
   ]
  },
  {
   "cell_type": "code",
   "execution_count": null,
   "metadata": {},
   "outputs": [],
   "source": [
    "# Question: Is this structure an artifact due to the decision to use different embeddings for source and target?\n",
    "# verify that PMI is symmetric (in fact this holds even for window_sizes > 1)\n",
    "pmi = emb_N1_pairs.PMI\n",
    "print(f'NetMF(pairwise={emb_N1_pairs._pairwise}).train(window_size={emb_N1_pairs._window_size}, ...)')\n",
    "print('|PMI-PMI.T|<= %g' % np.abs(pmi.values - pmi.values.T).max())\n",
    "# calculate Eigendecomposition\n",
    "negative=1\n",
    "mat = np.log((pmi.values / negative).clip(1))\n",
    "w,v = np.linalg.eigh(mat)\n",
    "print(f'#positive Eigenvalues={np.count_nonzero(w>0)}, #negative Eigenvalues={np.count_nonzero(w<0)}')\n",
    "# => matrix has negative Eigenvalues\n",
    "# and using same embeddings for source and target implies their product is non-negative definite"
   ]
  },
  {
   "cell_type": "code",
   "execution_count": null,
   "metadata": {},
   "outputs": [],
   "source": [
    "### Experiment: Try factoring the log(PMI)-matrix using a symmetric factorization.\n",
    "### It did not work...\n",
    "\n",
    "#from Embedding import ABCSymmetricEmbedding\n",
    "#class Symmetric_NetMF_Embedding(ABCSymmetricEmbedding):\n",
    "#    def __init__(self, emb: HON_NetMF_Embedding, negative=1):\n",
    "#        super().__init__(emb._dimension, emb.target_nodes)\n",
    "#        self.node2str = emb.node2str\n",
    "#        self._gen = emb._gen\n",
    "#        pmi = emb.PMI.values\n",
    "#        pmi = (pmi + pmi.T) / 2 # ensure pmi is symmetric\n",
    "#        mat = np.log((pmi / negative).clip(1))\n",
    "#        w,v = np.linalg.eigh(mat) # real valued eigendecomposition\n",
    "#        w = np.real(w)\n",
    "#        self.Eigenvalues = w\n",
    "#        w_pos = w.clip(0)\n",
    "#        self._embedding = v.T @ np.diag(w_pos**0.5)\n",
    "#emb_N1_pairs_sym = Symmetric_NetMF_Embedding(emb_N1_pairs, 1)\n",
    "#ev_N1_pairs_sym = Lattice2D_EmbeddingView(emb_N1_pairs_sym, edge_distance=1)\n",
    "#vis_N1_pairs_sim = ev_N1_pairs_sym.visualize_TSNE(random_state=0, n_iter=4000)\n",
    "#vis_N1_pairs_sim.plot2(figsize=(9,4), dpi=400, style='direction', alpha=0.5)"
   ]
  },
  {
   "cell_type": "markdown",
   "metadata": {},
   "source": [
    "## Embedding the transition matrix with SGD\n",
    "* While NetMF uses (unweighted!) matrix factorization (SVD), also a stochastic gradient descent (SGD) variant was implemented, which solves a weighted matrix factorization problem.\n",
    "* While tuning the learning rates is time consuming, SGD nevertheless has some benefits:\n",
    "  * Better suitable for large networks (cf. [App])\n",
    "  * Random walk based methods have memory and time requirements independent of size of neighborhood (cf. [GraphSAGE])\n",
    "  * Ability to include penalty terms\n",
    "  * Missing or uncertain values can be down-weighted to avoid any impact on the embedding. This can be useful to design some sort of cross-validation. In an unweighted procedure (such as SVD) there is no way to specify that some values should not impact the result."
   ]
  },
  {
   "cell_type": "code",
   "execution_count": null,
   "metadata": {},
   "outputs": [],
   "source": [
    "# Training the following model is slow. This will abort a \"Run all\".\n",
    "#raise Exception()"
   ]
  },
  {
   "cell_type": "code",
   "execution_count": null,
   "metadata": {},
   "outputs": [],
   "source": [
    "def plot_obj(title:str, data):\n",
    "    # see Plots_ExpVis_synth.ipynb\n",
    "    y = data['objectives']\n",
    "    print('Last objective %f' % y[-1])\n",
    "    total_steps = data['total_steps']\n",
    "    steps = data['steps']\n",
    "    previous_steps = total_steps - steps\n",
    "    x = previous_steps + np.arange(len(y)) * steps / len(y)\n",
    "    fig = plt.figure(figsize=(6,4),dpi=200)\n",
    "    ax = fig.gca()\n",
    "    y_pos = data['objectives_pos']\n",
    "    y_neg = data['objectives_neg'] * data['negative']\n",
    "    y_penalty = data['objectives_penalty'] * data['penalty']\n",
    "    ax.plot(x,data['objectives'], color='black',label='Loss')\n",
    "    ax.fill_between(x,0,y_pos,label='Positive')\n",
    "    ax.fill_between(x,y_pos,y_pos+y_neg,label='Negative')\n",
    "    if data['penalty']>0:\n",
    "        ax.fill_between(x,y_pos+y_neg,y_pos+y_neg+y_penalty,label='Penalty')\n",
    "    fig.suptitle(title)\n",
    "    ax.set_xlabel('steps')\n",
    "    ax.set_ylabel('loss') # 'objective'\n",
    "    ax.legend(loc='upper right', ncol=1)"
   ]
  },
  {
   "cell_type": "code",
   "execution_count": null,
   "metadata": {},
   "outputs": [],
   "source": [
    "emb_T = HON_Transition_Hierarchical_Embedding(latgen, dimension=128, seed=1)\n",
    "learning_rates = dict(learning_rate_start=0.03, learning_rate_end=0.02)\n",
    "# adding max_path_len=1 speeds calculation up further\n",
    "%time obj = emb_T.train(steps=300, negative=5, penalty=0, debug_objective=10, **learning_rates)\n",
    "plot_obj('HON_Transition_Hierarchical', obj)"
   ]
  },
  {
   "cell_type": "code",
   "execution_count": null,
   "metadata": {},
   "outputs": [],
   "source": [
    "learning_rates = dict(learning_rate_start=0.005, learning_rate_end=0.001)\n",
    "%time obj = emb_T.train(steps=1000, negative=5, penalty=0, debug_objective=10, **learning_rates)\n",
    "plot_obj('HON_Transition_Hierarchical (cont.)', obj)"
   ]
  },
  {
   "cell_type": "code",
   "execution_count": null,
   "metadata": {},
   "outputs": [],
   "source": [
    "#learning_rates = dict(learning_rate_start=0.001, learning_rate_end=0.001)\n",
    "#%time obj = emb_T.train(steps=2000, negative=5, penalty=0, debug_objective=100, **learning_rates)\n",
    "#plot_obj('HON_Transition_Hierarchical (cont.)', obj)"
   ]
  },
  {
   "cell_type": "code",
   "execution_count": null,
   "metadata": {},
   "outputs": [],
   "source": [
    "ev_T = Lattice2D_EmbeddingView(emb_T, use_source=True, edge_distance=2)\n",
    "vis_T = ev_T.visualize_TSNE(random_state=18, n_iter=4000)\n",
    "vis_T.plot2(figsize=(9,4), dpi=400, style='direction', alpha=0.5)"
   ]
  },
  {
   "cell_type": "markdown",
   "metadata": {},
   "source": [
    "## Penalizing...\n",
    "* When embedding paths instead of single nodes, we already observed, that paths which have their last node in common are close together.\n",
    "  * Speed up optimization by first findng embeddings for storter paths ans using them as starting values for longer paths.\n",
    "  * Rules starting with a longer path have less support, pulling their embedding towards the one of a similar but shorter path might stabilize the procedure. This is implemented via penalty."
   ]
  },
  {
   "cell_type": "code",
   "execution_count": null,
   "metadata": {},
   "outputs": [],
   "source": []
  },
  {
   "cell_type": "markdown",
   "metadata": {},
   "source": [
    "## GraRep\n",
    "GraRep is implemented similarly to NetMF. While the k-step transition probabilities are embedded separately in GraRep, they are averaged in NetMF."
   ]
  },
  {
   "cell_type": "code",
   "execution_count": null,
   "metadata": {},
   "outputs": [],
   "source": [
    "emb_G = HON_GraRep_Embedding(latgen, emb_N._dimension, emb_N._window_size, emb_N._pairwise, neg_stationary=True)\n",
    "%time emb_G.train(emb_N._negative)"
   ]
  },
  {
   "cell_type": "code",
   "execution_count": null,
   "metadata": {
    "scrolled": false
   },
   "outputs": [],
   "source": [
    "#check consistency between PMI calculation of NetMF and GraRep\n",
    "np.abs(emb_N._PMI - emb_G._PMI.mean(axis=2)).max()"
   ]
  },
  {
   "cell_type": "code",
   "execution_count": null,
   "metadata": {},
   "outputs": [],
   "source": [
    "ev_G = Lattice2D_EmbeddingView(emb_G, use_source=True, edge_distance=2)\n",
    "vis_G = ev_G.visualize_TSNE(random_state=12, n_iter=1000, autotransform=False)\n",
    "vis_G.plot2(figsize=(9,4), dpi=400, style='direction', alpha=0.5)"
   ]
  },
  {
   "cell_type": "code",
   "execution_count": null,
   "metadata": {},
   "outputs": [],
   "source": []
  },
  {
   "cell_type": "code",
   "execution_count": null,
   "metadata": {
    "scrolled": false
   },
   "outputs": [],
   "source": [
    "if False:\n",
    "    ev = ev_N1\n",
    "    for x in range(20):\n",
    "        vis = ev.visualize_TSNE(random_state=x, n_iter=1000)\n",
    "        vis.plot2(figsize=(9,4), dpi=400)"
   ]
  },
  {
   "cell_type": "code",
   "execution_count": null,
   "metadata": {},
   "outputs": [],
   "source": []
  },
  {
   "cell_type": "code",
   "execution_count": null,
   "metadata": {},
   "outputs": [],
   "source": []
  },
  {
   "cell_type": "code",
   "execution_count": null,
   "metadata": {},
   "outputs": [],
   "source": []
  }
 ],
 "metadata": {
  "kernelspec": {
   "display_name": "Python 3",
   "language": "python",
   "name": "python3"
  },
  "language_info": {
   "codemirror_mode": {
    "name": "ipython",
    "version": 3
   },
   "file_extension": ".py",
   "mimetype": "text/x-python",
   "name": "python",
   "nbconvert_exporter": "python",
   "pygments_lexer": "ipython3",
   "version": "3.7.9"
  }
 },
 "nbformat": 4,
 "nbformat_minor": 4
}
